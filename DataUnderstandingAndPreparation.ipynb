{
 "cells": [
  {
   "cell_type": "markdown",
   "metadata": {},
   "source": [
    "# Lab 2: ML Life Cycle: Data Understanding and Data Preparation"
   ]
  },
  {
   "cell_type": "code",
   "execution_count": 1,
   "metadata": {},
   "outputs": [],
   "source": [
    "import os\n",
    "import pandas as pd\n",
    "import numpy as np\n",
    "%matplotlib inline\n",
    "import matplotlib.pyplot as plt \n",
    "import seaborn as sns"
   ]
  },
  {
   "cell_type": "markdown",
   "metadata": {},
   "source": [
    "In this lab, you will practice the second and third steps of the machine learning life cycle: data understanding and data preparation. You will beging preparing your data so that it can be used to train a machine learning model that solves a regression problem. Note that by the end of the lab, your data set won't be completely ready for the modeling phase, but you will gain experience using some common data preparation techniques. \n",
    "\n",
    "You will complete the following tasks to transform your data:\n",
    "\n",
    "1. Build your data matrix and define your ML problem:\n",
    "    * Load the Airbnb \"listings\" data set into a DataFrame and inspect the data\n",
    "    * Define the label and convert the label's data type to one that is more suitable for modeling\n",
    "    * Identify features\n",
    "2. Clean your data:\n",
    "    * Handle outliers by building a new regression label column by winsorizing outliers\n",
    "    * Handle missing data by replacing all missing values in the dataset with means\n",
    "3. Perform feature transformation using one-hot encoding\n",
    "4. Explore your data:\n",
    "    * Identify two features with the highest correlation with label\n",
    "    * Build appropriate bivariate plots to visualize the correlations between features and the label\n",
    "5. Analysis:\n",
    "    * Analyze the relationship between the features and the label\n",
    "    * Brainstorm what else needs to be done to fully prepare the data for modeling"
   ]
  },
  {
   "cell_type": "markdown",
   "metadata": {},
   "source": [
    "## Part 1. Build Your Data Matrix (DataFrame) and Define Your ML Problem"
   ]
  },
  {
   "cell_type": "markdown",
   "metadata": {},
   "source": [
    "#### Load a Data Set and Save it as a Pandas DataFrame"
   ]
  },
  {
   "cell_type": "markdown",
   "metadata": {},
   "source": [
    "We will be working with the Airbnb NYC \"listings\" data set. Use the specified path and name of the file to load the data. Save it as a Pandas DataFrame called `df`."
   ]
  },
  {
   "cell_type": "code",
   "execution_count": 2,
   "metadata": {},
   "outputs": [],
   "source": [
    "# Do not remove or edit the line below:\n",
    "filename = os.path.join(os.getcwd(), \"data\", \"airbnbData.csv\")"
   ]
  },
  {
   "cell_type": "markdown",
   "metadata": {},
   "source": [
    "**Task**: Load the data and save it to DataFrame `df`.\n",
    "\n",
    "<i>Note:</i> You may receive a warning message. Ignore this warning."
   ]
  },
  {
   "cell_type": "code",
   "execution_count": 3,
   "metadata": {},
   "outputs": [
    {
     "name": "stderr",
     "output_type": "stream",
     "text": [
      "/usr/local/lib/python3.6/dist-packages/IPython/core/interactiveshell.py:2728: DtypeWarning: Columns (67) have mixed types.Specify dtype option on import or set low_memory=False.\n",
      "  interactivity=interactivity, compiler=compiler, result=result)\n"
     ]
    }
   ],
   "source": [
    "df = pd.read_csv(filename)"
   ]
  },
  {
   "cell_type": "markdown",
   "metadata": {},
   "source": [
    "####  Inspect the Data\n"
   ]
  },
  {
   "cell_type": "markdown",
   "metadata": {},
   "source": [
    "<b>Task</b>: Display the shape of `df` -- that is, the number of rows and columns."
   ]
  },
  {
   "cell_type": "code",
   "execution_count": 4,
   "metadata": {},
   "outputs": [
    {
     "data": {
      "text/plain": [
       "(38277, 74)"
      ]
     },
     "execution_count": 4,
     "metadata": {},
     "output_type": "execute_result"
    }
   ],
   "source": [
    "df.shape"
   ]
  },
  {
   "cell_type": "markdown",
   "metadata": {},
   "source": [
    "<b>Task</b>: Display the column names."
   ]
  },
  {
   "cell_type": "code",
   "execution_count": 5,
   "metadata": {},
   "outputs": [
    {
     "data": {
      "text/plain": [
       "Index(['id', 'listing_url', 'scrape_id', 'last_scraped', 'name', 'description',\n",
       "       'neighborhood_overview', 'picture_url', 'host_id', 'host_url',\n",
       "       'host_name', 'host_since', 'host_location', 'host_about',\n",
       "       'host_response_time', 'host_response_rate', 'host_acceptance_rate',\n",
       "       'host_is_superhost', 'host_thumbnail_url', 'host_picture_url',\n",
       "       'host_neighbourhood', 'host_listings_count',\n",
       "       'host_total_listings_count', 'host_verifications',\n",
       "       'host_has_profile_pic', 'host_identity_verified', 'neighbourhood',\n",
       "       'neighbourhood_cleansed', 'neighbourhood_group_cleansed', 'latitude',\n",
       "       'longitude', 'property_type', 'room_type', 'accommodates', 'bathrooms',\n",
       "       'bathrooms_text', 'bedrooms', 'beds', 'amenities', 'price',\n",
       "       'minimum_nights', 'maximum_nights', 'minimum_minimum_nights',\n",
       "       'maximum_minimum_nights', 'minimum_maximum_nights',\n",
       "       'maximum_maximum_nights', 'minimum_nights_avg_ntm',\n",
       "       'maximum_nights_avg_ntm', 'calendar_updated', 'has_availability',\n",
       "       'availability_30', 'availability_60', 'availability_90',\n",
       "       'availability_365', 'calendar_last_scraped', 'number_of_reviews',\n",
       "       'number_of_reviews_ltm', 'number_of_reviews_l30d', 'first_review',\n",
       "       'last_review', 'review_scores_rating', 'review_scores_accuracy',\n",
       "       'review_scores_cleanliness', 'review_scores_checkin',\n",
       "       'review_scores_communication', 'review_scores_location',\n",
       "       'review_scores_value', 'license', 'instant_bookable',\n",
       "       'calculated_host_listings_count',\n",
       "       'calculated_host_listings_count_entire_homes',\n",
       "       'calculated_host_listings_count_private_rooms',\n",
       "       'calculated_host_listings_count_shared_rooms', 'reviews_per_month'],\n",
       "      dtype='object')"
      ]
     },
     "execution_count": 5,
     "metadata": {},
     "output_type": "execute_result"
    }
   ],
   "source": [
    "df.columns"
   ]
  },
  {
   "cell_type": "markdown",
   "metadata": {},
   "source": [
    "**Task**: Get a peek at the data by displaying the first few rows, as you usually do."
   ]
  },
  {
   "cell_type": "code",
   "execution_count": 6,
   "metadata": {},
   "outputs": [
    {
     "data": {
      "text/html": [
       "<div>\n",
       "<style scoped>\n",
       "    .dataframe tbody tr th:only-of-type {\n",
       "        vertical-align: middle;\n",
       "    }\n",
       "\n",
       "    .dataframe tbody tr th {\n",
       "        vertical-align: top;\n",
       "    }\n",
       "\n",
       "    .dataframe thead th {\n",
       "        text-align: right;\n",
       "    }\n",
       "</style>\n",
       "<table border=\"1\" class=\"dataframe\">\n",
       "  <thead>\n",
       "    <tr style=\"text-align: right;\">\n",
       "      <th></th>\n",
       "      <th>id</th>\n",
       "      <th>listing_url</th>\n",
       "      <th>scrape_id</th>\n",
       "      <th>last_scraped</th>\n",
       "      <th>name</th>\n",
       "      <th>description</th>\n",
       "      <th>neighborhood_overview</th>\n",
       "      <th>picture_url</th>\n",
       "      <th>host_id</th>\n",
       "      <th>host_url</th>\n",
       "      <th>...</th>\n",
       "      <th>review_scores_communication</th>\n",
       "      <th>review_scores_location</th>\n",
       "      <th>review_scores_value</th>\n",
       "      <th>license</th>\n",
       "      <th>instant_bookable</th>\n",
       "      <th>calculated_host_listings_count</th>\n",
       "      <th>calculated_host_listings_count_entire_homes</th>\n",
       "      <th>calculated_host_listings_count_private_rooms</th>\n",
       "      <th>calculated_host_listings_count_shared_rooms</th>\n",
       "      <th>reviews_per_month</th>\n",
       "    </tr>\n",
       "  </thead>\n",
       "  <tbody>\n",
       "    <tr>\n",
       "      <th>0</th>\n",
       "      <td>2595</td>\n",
       "      <td>https://www.airbnb.com/rooms/2595</td>\n",
       "      <td>20211204143024</td>\n",
       "      <td>2021-12-05</td>\n",
       "      <td>Skylit Midtown Castle</td>\n",
       "      <td>Beautiful, spacious skylit studio in the heart...</td>\n",
       "      <td>Centrally located in the heart of Manhattan ju...</td>\n",
       "      <td>https://a0.muscache.com/pictures/f0813a11-40b2...</td>\n",
       "      <td>2845</td>\n",
       "      <td>https://www.airbnb.com/users/show/2845</td>\n",
       "      <td>...</td>\n",
       "      <td>4.79</td>\n",
       "      <td>4.86</td>\n",
       "      <td>4.41</td>\n",
       "      <td>NaN</td>\n",
       "      <td>f</td>\n",
       "      <td>3</td>\n",
       "      <td>3</td>\n",
       "      <td>0</td>\n",
       "      <td>0</td>\n",
       "      <td>0.33</td>\n",
       "    </tr>\n",
       "    <tr>\n",
       "      <th>1</th>\n",
       "      <td>3831</td>\n",
       "      <td>https://www.airbnb.com/rooms/3831</td>\n",
       "      <td>20211204143024</td>\n",
       "      <td>2021-12-05</td>\n",
       "      <td>Whole flr w/private bdrm, bath &amp; kitchen(pls r...</td>\n",
       "      <td>Enjoy 500 s.f. top floor in 1899 brownstone, w...</td>\n",
       "      <td>Just the right mix of urban center and local n...</td>\n",
       "      <td>https://a0.muscache.com/pictures/e49999c2-9fd5...</td>\n",
       "      <td>4869</td>\n",
       "      <td>https://www.airbnb.com/users/show/4869</td>\n",
       "      <td>...</td>\n",
       "      <td>4.80</td>\n",
       "      <td>4.71</td>\n",
       "      <td>4.64</td>\n",
       "      <td>NaN</td>\n",
       "      <td>f</td>\n",
       "      <td>1</td>\n",
       "      <td>1</td>\n",
       "      <td>0</td>\n",
       "      <td>0</td>\n",
       "      <td>4.86</td>\n",
       "    </tr>\n",
       "    <tr>\n",
       "      <th>2</th>\n",
       "      <td>5121</td>\n",
       "      <td>https://www.airbnb.com/rooms/5121</td>\n",
       "      <td>20211204143024</td>\n",
       "      <td>2021-12-05</td>\n",
       "      <td>BlissArtsSpace!</td>\n",
       "      <td>&lt;b&gt;The space&lt;/b&gt;&lt;br /&gt;HELLO EVERYONE AND THANK...</td>\n",
       "      <td>NaN</td>\n",
       "      <td>https://a0.muscache.com/pictures/2090980c-b68e...</td>\n",
       "      <td>7356</td>\n",
       "      <td>https://www.airbnb.com/users/show/7356</td>\n",
       "      <td>...</td>\n",
       "      <td>4.91</td>\n",
       "      <td>4.47</td>\n",
       "      <td>4.52</td>\n",
       "      <td>NaN</td>\n",
       "      <td>f</td>\n",
       "      <td>2</td>\n",
       "      <td>0</td>\n",
       "      <td>2</td>\n",
       "      <td>0</td>\n",
       "      <td>0.52</td>\n",
       "    </tr>\n",
       "    <tr>\n",
       "      <th>3</th>\n",
       "      <td>5136</td>\n",
       "      <td>https://www.airbnb.com/rooms/5136</td>\n",
       "      <td>20211204143024</td>\n",
       "      <td>2021-12-05</td>\n",
       "      <td>Spacious Brooklyn Duplex, Patio + Garden</td>\n",
       "      <td>We welcome you to stay in our lovely 2 br dupl...</td>\n",
       "      <td>NaN</td>\n",
       "      <td>https://a0.muscache.com/pictures/miso/Hosting-...</td>\n",
       "      <td>7378</td>\n",
       "      <td>https://www.airbnb.com/users/show/7378</td>\n",
       "      <td>...</td>\n",
       "      <td>5.00</td>\n",
       "      <td>4.50</td>\n",
       "      <td>5.00</td>\n",
       "      <td>NaN</td>\n",
       "      <td>f</td>\n",
       "      <td>1</td>\n",
       "      <td>1</td>\n",
       "      <td>0</td>\n",
       "      <td>0</td>\n",
       "      <td>0.02</td>\n",
       "    </tr>\n",
       "    <tr>\n",
       "      <th>4</th>\n",
       "      <td>5178</td>\n",
       "      <td>https://www.airbnb.com/rooms/5178</td>\n",
       "      <td>20211204143024</td>\n",
       "      <td>2021-12-05</td>\n",
       "      <td>Large Furnished Room Near B'way</td>\n",
       "      <td>Please don’t expect the luxury here just a bas...</td>\n",
       "      <td>Theater district, many restaurants around here.</td>\n",
       "      <td>https://a0.muscache.com/pictures/12065/f070997...</td>\n",
       "      <td>8967</td>\n",
       "      <td>https://www.airbnb.com/users/show/8967</td>\n",
       "      <td>...</td>\n",
       "      <td>4.42</td>\n",
       "      <td>4.87</td>\n",
       "      <td>4.36</td>\n",
       "      <td>NaN</td>\n",
       "      <td>f</td>\n",
       "      <td>1</td>\n",
       "      <td>0</td>\n",
       "      <td>1</td>\n",
       "      <td>0</td>\n",
       "      <td>3.68</td>\n",
       "    </tr>\n",
       "  </tbody>\n",
       "</table>\n",
       "<p>5 rows × 74 columns</p>\n",
       "</div>"
      ],
      "text/plain": [
       "     id                        listing_url       scrape_id last_scraped  \\\n",
       "0  2595  https://www.airbnb.com/rooms/2595  20211204143024   2021-12-05   \n",
       "1  3831  https://www.airbnb.com/rooms/3831  20211204143024   2021-12-05   \n",
       "2  5121  https://www.airbnb.com/rooms/5121  20211204143024   2021-12-05   \n",
       "3  5136  https://www.airbnb.com/rooms/5136  20211204143024   2021-12-05   \n",
       "4  5178  https://www.airbnb.com/rooms/5178  20211204143024   2021-12-05   \n",
       "\n",
       "                                                name  \\\n",
       "0                              Skylit Midtown Castle   \n",
       "1  Whole flr w/private bdrm, bath & kitchen(pls r...   \n",
       "2                                    BlissArtsSpace!   \n",
       "3           Spacious Brooklyn Duplex, Patio + Garden   \n",
       "4                   Large Furnished Room Near B'way　   \n",
       "\n",
       "                                         description  \\\n",
       "0  Beautiful, spacious skylit studio in the heart...   \n",
       "1  Enjoy 500 s.f. top floor in 1899 brownstone, w...   \n",
       "2  <b>The space</b><br />HELLO EVERYONE AND THANK...   \n",
       "3  We welcome you to stay in our lovely 2 br dupl...   \n",
       "4  Please don’t expect the luxury here just a bas...   \n",
       "\n",
       "                               neighborhood_overview  \\\n",
       "0  Centrally located in the heart of Manhattan ju...   \n",
       "1  Just the right mix of urban center and local n...   \n",
       "2                                                NaN   \n",
       "3                                                NaN   \n",
       "4    Theater district, many restaurants around here.   \n",
       "\n",
       "                                         picture_url  host_id  \\\n",
       "0  https://a0.muscache.com/pictures/f0813a11-40b2...     2845   \n",
       "1  https://a0.muscache.com/pictures/e49999c2-9fd5...     4869   \n",
       "2  https://a0.muscache.com/pictures/2090980c-b68e...     7356   \n",
       "3  https://a0.muscache.com/pictures/miso/Hosting-...     7378   \n",
       "4  https://a0.muscache.com/pictures/12065/f070997...     8967   \n",
       "\n",
       "                                 host_url  ... review_scores_communication  \\\n",
       "0  https://www.airbnb.com/users/show/2845  ...                        4.79   \n",
       "1  https://www.airbnb.com/users/show/4869  ...                        4.80   \n",
       "2  https://www.airbnb.com/users/show/7356  ...                        4.91   \n",
       "3  https://www.airbnb.com/users/show/7378  ...                        5.00   \n",
       "4  https://www.airbnb.com/users/show/8967  ...                        4.42   \n",
       "\n",
       "  review_scores_location review_scores_value license instant_bookable  \\\n",
       "0                   4.86                4.41     NaN                f   \n",
       "1                   4.71                4.64     NaN                f   \n",
       "2                   4.47                4.52     NaN                f   \n",
       "3                   4.50                5.00     NaN                f   \n",
       "4                   4.87                4.36     NaN                f   \n",
       "\n",
       "  calculated_host_listings_count calculated_host_listings_count_entire_homes  \\\n",
       "0                              3                                           3   \n",
       "1                              1                                           1   \n",
       "2                              2                                           0   \n",
       "3                              1                                           1   \n",
       "4                              1                                           0   \n",
       "\n",
       "  calculated_host_listings_count_private_rooms  \\\n",
       "0                                            0   \n",
       "1                                            0   \n",
       "2                                            2   \n",
       "3                                            0   \n",
       "4                                            1   \n",
       "\n",
       "  calculated_host_listings_count_shared_rooms reviews_per_month  \n",
       "0                                           0              0.33  \n",
       "1                                           0              4.86  \n",
       "2                                           0              0.52  \n",
       "3                                           0              0.02  \n",
       "4                                           0              3.68  \n",
       "\n",
       "[5 rows x 74 columns]"
      ]
     },
     "execution_count": 6,
     "metadata": {},
     "output_type": "execute_result"
    }
   ],
   "source": [
    "df.head()"
   ]
  },
  {
   "cell_type": "markdown",
   "metadata": {},
   "source": [
    "#### Define the Label"
   ]
  },
  {
   "cell_type": "markdown",
   "metadata": {},
   "source": [
    "Assume that your goal is to train a machine learning model that predicts the price of an Airbnb. This is an example of supervised learning and is a regression problem. In our dataset, our label will be the `price` column. Let's inspect the values in the `price` column."
   ]
  },
  {
   "cell_type": "code",
   "execution_count": 7,
   "metadata": {},
   "outputs": [
    {
     "data": {
      "text/plain": [
       "0        $150.00\n",
       "1         $75.00\n",
       "2         $60.00\n",
       "3        $275.00\n",
       "4         $68.00\n",
       "          ...   \n",
       "38272     $79.00\n",
       "38273     $76.00\n",
       "38274    $116.00\n",
       "38275    $106.00\n",
       "38276    $689.00\n",
       "Name: price, Length: 38277, dtype: object"
      ]
     },
     "execution_count": 7,
     "metadata": {},
     "output_type": "execute_result"
    }
   ],
   "source": [
    "df['price']"
   ]
  },
  {
   "cell_type": "markdown",
   "metadata": {},
   "source": [
    "Notice the `price` column contains values that are listed as $<$currency_name$>$$<$numeric_value$>$. \n",
    "<br>For example, it contains values that look like this: `$120`. <br>\n",
    "\n",
    "**Task**:  Obtain the data type of the values in this column:"
   ]
  },
  {
   "cell_type": "code",
   "execution_count": 8,
   "metadata": {},
   "outputs": [
    {
     "data": {
      "text/plain": [
       "dtype('O')"
      ]
     },
     "execution_count": 8,
     "metadata": {},
     "output_type": "execute_result"
    }
   ],
   "source": [
    "df['price'].dtype"
   ]
  },
  {
   "cell_type": "markdown",
   "metadata": {},
   "source": [
    "Notice that the data type is \"object,\" which in Pandas translates to the String data type."
   ]
  },
  {
   "cell_type": "markdown",
   "metadata": {},
   "source": [
    "**Task**:  Display the first 15 unique values of  the `price` column:"
   ]
  },
  {
   "cell_type": "code",
   "execution_count": 9,
   "metadata": {},
   "outputs": [
    {
     "data": {
      "text/plain": [
       "array(['$150.00', '$75.00', '$60.00', '$275.00', '$68.00', '$98.00',\n",
       "       '$89.00', '$65.00', '$62.00', '$90.00', '$199.00', '$96.00',\n",
       "       '$299.00', '$140.00', '$175.00'], dtype=object)"
      ]
     },
     "execution_count": 9,
     "metadata": {},
     "output_type": "execute_result"
    }
   ],
   "source": [
    "df['price'].unique()[:15]"
   ]
  },
  {
   "cell_type": "markdown",
   "metadata": {},
   "source": [
    "In order for us to use the prices for modeling, we will have to transform the values in the `price` column from strings to floats. We will:\n",
    "\n",
    "* remove the dollar signs (in this case, the platform forces the currency to be the USD, so we do not need to worry about targeting, say, the Japanese Yen sign, nor about converting the values into USD). \n",
    "* remove the commas from all values that are in the thousands or above: for example, `$2,500`. \n",
    "\n",
    "The code cell below accomplishes this."
   ]
  },
  {
   "cell_type": "code",
   "execution_count": 10,
   "metadata": {},
   "outputs": [],
   "source": [
    "df['price'] = df['price'].str.replace(',', '')\n",
    "df['price'] = df['price'].str.replace('$', '')\n",
    "df['price'] = df['price'].astype(float)"
   ]
  },
  {
   "cell_type": "markdown",
   "metadata": {},
   "source": [
    "**Task**:  Display the first 15 unique values of  the `price` column again to make sure they have been transformed."
   ]
  },
  {
   "cell_type": "code",
   "execution_count": 11,
   "metadata": {},
   "outputs": [
    {
     "data": {
      "text/plain": [
       "array([150.,  75.,  60., 275.,  68.,  98.,  89.,  65.,  62.,  90., 199.,\n",
       "        96., 299., 140., 175.])"
      ]
     },
     "execution_count": 11,
     "metadata": {},
     "output_type": "execute_result"
    }
   ],
   "source": [
    "df['price'].unique()[:15]"
   ]
  },
  {
   "cell_type": "markdown",
   "metadata": {},
   "source": [
    "#### Identify Features"
   ]
  },
  {
   "cell_type": "markdown",
   "metadata": {},
   "source": [
    "Simply by inspecting the data, let's identify some columns that should not serve as features - those that will not help us solve our predictive ML problem. "
   ]
  },
  {
   "cell_type": "markdown",
   "metadata": {},
   "source": [
    "Some that stand out are columns that contain website addresses (URLs).\n",
    "\n",
    "**Task**: Create a list which contains the names of columns that contain URLs. Save the resulting list to variable `url_colnames`.\n",
    "\n",
    "*Tip*: There are different ways to accomplish this, including using Python list comprehensions."
   ]
  },
  {
   "cell_type": "code",
   "execution_count": 12,
   "metadata": {},
   "outputs": [
    {
     "data": {
      "text/plain": [
       "['listing_url',\n",
       " 'picture_url',\n",
       " 'host_url',\n",
       " 'host_thumbnail_url',\n",
       " 'host_picture_url']"
      ]
     },
     "execution_count": 12,
     "metadata": {},
     "output_type": "execute_result"
    }
   ],
   "source": [
    "url_colnames = [col for col in df.columns if 'url' in col.lower()]\n",
    "url_colnames"
   ]
  },
  {
   "cell_type": "markdown",
   "metadata": {},
   "source": [
    "**Task**: Drop the columns with the specified names contained in list `url_colnames` in place (that is, make sure this change applies to the original DataFrame `df`, instead of creating a temporary new DataFrame object with fewer columns)."
   ]
  },
  {
   "cell_type": "code",
   "execution_count": 13,
   "metadata": {},
   "outputs": [],
   "source": [
    "df.drop(columns=url_colnames, inplace=True)"
   ]
  },
  {
   "cell_type": "markdown",
   "metadata": {},
   "source": [
    "**Task**: Display the shape of the data to verify that the new number of columns is what you expected."
   ]
  },
  {
   "cell_type": "code",
   "execution_count": 14,
   "metadata": {},
   "outputs": [
    {
     "data": {
      "text/plain": [
       "(38277, 69)"
      ]
     },
     "execution_count": 14,
     "metadata": {},
     "output_type": "execute_result"
    }
   ],
   "source": [
    "df.shape"
   ]
  },
  {
   "cell_type": "markdown",
   "metadata": {},
   "source": [
    "**Task**: In the code cell below, display the features that we will use to solve our ML problem."
   ]
  },
  {
   "cell_type": "code",
   "execution_count": 15,
   "metadata": {},
   "outputs": [
    {
     "data": {
      "text/plain": [
       "Index(['id', 'scrape_id', 'last_scraped', 'name', 'description',\n",
       "       'neighborhood_overview', 'host_id', 'host_name', 'host_since',\n",
       "       'host_location', 'host_about', 'host_response_time',\n",
       "       'host_response_rate', 'host_acceptance_rate', 'host_is_superhost',\n",
       "       'host_neighbourhood', 'host_listings_count',\n",
       "       'host_total_listings_count', 'host_verifications',\n",
       "       'host_has_profile_pic', 'host_identity_verified', 'neighbourhood',\n",
       "       'neighbourhood_cleansed', 'neighbourhood_group_cleansed', 'latitude',\n",
       "       'longitude', 'property_type', 'room_type', 'accommodates', 'bathrooms',\n",
       "       'bathrooms_text', 'bedrooms', 'beds', 'amenities', 'price',\n",
       "       'minimum_nights', 'maximum_nights', 'minimum_minimum_nights',\n",
       "       'maximum_minimum_nights', 'minimum_maximum_nights',\n",
       "       'maximum_maximum_nights', 'minimum_nights_avg_ntm',\n",
       "       'maximum_nights_avg_ntm', 'calendar_updated', 'has_availability',\n",
       "       'availability_30', 'availability_60', 'availability_90',\n",
       "       'availability_365', 'calendar_last_scraped', 'number_of_reviews',\n",
       "       'number_of_reviews_ltm', 'number_of_reviews_l30d', 'first_review',\n",
       "       'last_review', 'review_scores_rating', 'review_scores_accuracy',\n",
       "       'review_scores_cleanliness', 'review_scores_checkin',\n",
       "       'review_scores_communication', 'review_scores_location',\n",
       "       'review_scores_value', 'license', 'instant_bookable',\n",
       "       'calculated_host_listings_count',\n",
       "       'calculated_host_listings_count_entire_homes',\n",
       "       'calculated_host_listings_count_private_rooms',\n",
       "       'calculated_host_listings_count_shared_rooms', 'reviews_per_month'],\n",
       "      dtype='object')"
      ]
     },
     "execution_count": 15,
     "metadata": {},
     "output_type": "execute_result"
    }
   ],
   "source": [
    "df.columns"
   ]
  },
  {
   "cell_type": "markdown",
   "metadata": {},
   "source": [
    "**Task**: Are there any other features that you think may not be well suited for our machine learning problem? Note your findings in the markdown cell below."
   ]
  },
  {
   "cell_type": "markdown",
   "metadata": {},
   "source": [
    "- ID-related columns: \"id, scrape_id, host_id\". These columns are identifiers and don't provide useful information for predicting the price.\n",
    "\n",
    "\n",
    "- Date-related columns: \"last_scraped, host_since, calendar_last_scraped, first_review, last_review\". While date-related information could be useful in some contexts, these specific columns may not directly contribute to predicting the price.\n",
    "\n",
    "\n",
    "- Columns with high cardinality or complex data types: \"amenities, host_verifications\". These columns contain lists or complex data types that would need significant preprocessing to be useful.\n",
    "\n",
    "\n",
    "- Columns related to availability: \"availability_30, availability_60, availability_90, availability_365, calendar_updated\". These columns might be more relevant for predicting occupancy or booking patterns rather than price directly.\n",
    "\n",
    "\n",
    "- Columns related to reviews: \"review_scores_accuracy, review_scores_cleanliness, review_scores_checkin, review_scores_communication, review_scores_location, review_scores_value\" . While review scores could correlate with price, they are subjective and might introduce noise. We could consider aggregating them if they are to be included."
   ]
  },
  {
   "cell_type": "markdown",
   "metadata": {},
   "source": [
    "## Part 2. Clean Your Data\n",
    "\n",
    "Let's now handle outliers and missing data."
   ]
  },
  {
   "cell_type": "markdown",
   "metadata": {},
   "source": [
    "### a. Handle Outliers\n",
    "\n",
    "Let us prepare the data in our label column. Namely, we will detect and replace outliers in the data using winsorization."
   ]
  },
  {
   "cell_type": "markdown",
   "metadata": {},
   "source": [
    "**Task**: Create a new version of the `price` column, named `label_price`, in which you will replace the top and bottom 1% outlier values with the corresponding percentile value. Add this new column to the DataFrame `df`."
   ]
  },
  {
   "cell_type": "markdown",
   "metadata": {},
   "source": [
    "Remember, you will first need to load the `stats` module from the `scipy` package:"
   ]
  },
  {
   "cell_type": "code",
   "execution_count": 16,
   "metadata": {},
   "outputs": [],
   "source": [
    "from scipy.stats import mstats\n",
    "\n",
    "df['price'] = df['price'].replace('[\\$,]', '', regex=True).astype(float)\n",
    "\n",
    "df['label_price'] = mstats.winsorize(df['price'], limits=[0.01, 0.01])"
   ]
  },
  {
   "cell_type": "markdown",
   "metadata": {},
   "source": [
    "Let's verify that the new column `label_price` was added to DataFrame `df`:"
   ]
  },
  {
   "cell_type": "code",
   "execution_count": 17,
   "metadata": {},
   "outputs": [
    {
     "data": {
      "text/html": [
       "<div>\n",
       "<style scoped>\n",
       "    .dataframe tbody tr th:only-of-type {\n",
       "        vertical-align: middle;\n",
       "    }\n",
       "\n",
       "    .dataframe tbody tr th {\n",
       "        vertical-align: top;\n",
       "    }\n",
       "\n",
       "    .dataframe thead th {\n",
       "        text-align: right;\n",
       "    }\n",
       "</style>\n",
       "<table border=\"1\" class=\"dataframe\">\n",
       "  <thead>\n",
       "    <tr style=\"text-align: right;\">\n",
       "      <th></th>\n",
       "      <th>id</th>\n",
       "      <th>scrape_id</th>\n",
       "      <th>last_scraped</th>\n",
       "      <th>name</th>\n",
       "      <th>description</th>\n",
       "      <th>neighborhood_overview</th>\n",
       "      <th>host_id</th>\n",
       "      <th>host_name</th>\n",
       "      <th>host_since</th>\n",
       "      <th>host_location</th>\n",
       "      <th>...</th>\n",
       "      <th>review_scores_location</th>\n",
       "      <th>review_scores_value</th>\n",
       "      <th>license</th>\n",
       "      <th>instant_bookable</th>\n",
       "      <th>calculated_host_listings_count</th>\n",
       "      <th>calculated_host_listings_count_entire_homes</th>\n",
       "      <th>calculated_host_listings_count_private_rooms</th>\n",
       "      <th>calculated_host_listings_count_shared_rooms</th>\n",
       "      <th>reviews_per_month</th>\n",
       "      <th>label_price</th>\n",
       "    </tr>\n",
       "  </thead>\n",
       "  <tbody>\n",
       "    <tr>\n",
       "      <th>0</th>\n",
       "      <td>2595</td>\n",
       "      <td>20211204143024</td>\n",
       "      <td>2021-12-05</td>\n",
       "      <td>Skylit Midtown Castle</td>\n",
       "      <td>Beautiful, spacious skylit studio in the heart...</td>\n",
       "      <td>Centrally located in the heart of Manhattan ju...</td>\n",
       "      <td>2845</td>\n",
       "      <td>Jennifer</td>\n",
       "      <td>2008-09-09</td>\n",
       "      <td>New York, New York, United States</td>\n",
       "      <td>...</td>\n",
       "      <td>4.86</td>\n",
       "      <td>4.41</td>\n",
       "      <td>NaN</td>\n",
       "      <td>f</td>\n",
       "      <td>3</td>\n",
       "      <td>3</td>\n",
       "      <td>0</td>\n",
       "      <td>0</td>\n",
       "      <td>0.33</td>\n",
       "      <td>150.0</td>\n",
       "    </tr>\n",
       "    <tr>\n",
       "      <th>1</th>\n",
       "      <td>3831</td>\n",
       "      <td>20211204143024</td>\n",
       "      <td>2021-12-05</td>\n",
       "      <td>Whole flr w/private bdrm, bath &amp; kitchen(pls r...</td>\n",
       "      <td>Enjoy 500 s.f. top floor in 1899 brownstone, w...</td>\n",
       "      <td>Just the right mix of urban center and local n...</td>\n",
       "      <td>4869</td>\n",
       "      <td>LisaRoxanne</td>\n",
       "      <td>2008-12-07</td>\n",
       "      <td>New York, New York, United States</td>\n",
       "      <td>...</td>\n",
       "      <td>4.71</td>\n",
       "      <td>4.64</td>\n",
       "      <td>NaN</td>\n",
       "      <td>f</td>\n",
       "      <td>1</td>\n",
       "      <td>1</td>\n",
       "      <td>0</td>\n",
       "      <td>0</td>\n",
       "      <td>4.86</td>\n",
       "      <td>75.0</td>\n",
       "    </tr>\n",
       "    <tr>\n",
       "      <th>2</th>\n",
       "      <td>5121</td>\n",
       "      <td>20211204143024</td>\n",
       "      <td>2021-12-05</td>\n",
       "      <td>BlissArtsSpace!</td>\n",
       "      <td>&lt;b&gt;The space&lt;/b&gt;&lt;br /&gt;HELLO EVERYONE AND THANK...</td>\n",
       "      <td>NaN</td>\n",
       "      <td>7356</td>\n",
       "      <td>Garon</td>\n",
       "      <td>2009-02-03</td>\n",
       "      <td>New York, New York, United States</td>\n",
       "      <td>...</td>\n",
       "      <td>4.47</td>\n",
       "      <td>4.52</td>\n",
       "      <td>NaN</td>\n",
       "      <td>f</td>\n",
       "      <td>2</td>\n",
       "      <td>0</td>\n",
       "      <td>2</td>\n",
       "      <td>0</td>\n",
       "      <td>0.52</td>\n",
       "      <td>60.0</td>\n",
       "    </tr>\n",
       "    <tr>\n",
       "      <th>3</th>\n",
       "      <td>5136</td>\n",
       "      <td>20211204143024</td>\n",
       "      <td>2021-12-05</td>\n",
       "      <td>Spacious Brooklyn Duplex, Patio + Garden</td>\n",
       "      <td>We welcome you to stay in our lovely 2 br dupl...</td>\n",
       "      <td>NaN</td>\n",
       "      <td>7378</td>\n",
       "      <td>Rebecca</td>\n",
       "      <td>2009-02-03</td>\n",
       "      <td>Brooklyn, New York, United States</td>\n",
       "      <td>...</td>\n",
       "      <td>4.50</td>\n",
       "      <td>5.00</td>\n",
       "      <td>NaN</td>\n",
       "      <td>f</td>\n",
       "      <td>1</td>\n",
       "      <td>1</td>\n",
       "      <td>0</td>\n",
       "      <td>0</td>\n",
       "      <td>0.02</td>\n",
       "      <td>275.0</td>\n",
       "    </tr>\n",
       "    <tr>\n",
       "      <th>4</th>\n",
       "      <td>5178</td>\n",
       "      <td>20211204143024</td>\n",
       "      <td>2021-12-05</td>\n",
       "      <td>Large Furnished Room Near B'way</td>\n",
       "      <td>Please don’t expect the luxury here just a bas...</td>\n",
       "      <td>Theater district, many restaurants around here.</td>\n",
       "      <td>8967</td>\n",
       "      <td>Shunichi</td>\n",
       "      <td>2009-03-03</td>\n",
       "      <td>New York, New York, United States</td>\n",
       "      <td>...</td>\n",
       "      <td>4.87</td>\n",
       "      <td>4.36</td>\n",
       "      <td>NaN</td>\n",
       "      <td>f</td>\n",
       "      <td>1</td>\n",
       "      <td>0</td>\n",
       "      <td>1</td>\n",
       "      <td>0</td>\n",
       "      <td>3.68</td>\n",
       "      <td>68.0</td>\n",
       "    </tr>\n",
       "  </tbody>\n",
       "</table>\n",
       "<p>5 rows × 70 columns</p>\n",
       "</div>"
      ],
      "text/plain": [
       "     id       scrape_id last_scraped  \\\n",
       "0  2595  20211204143024   2021-12-05   \n",
       "1  3831  20211204143024   2021-12-05   \n",
       "2  5121  20211204143024   2021-12-05   \n",
       "3  5136  20211204143024   2021-12-05   \n",
       "4  5178  20211204143024   2021-12-05   \n",
       "\n",
       "                                                name  \\\n",
       "0                              Skylit Midtown Castle   \n",
       "1  Whole flr w/private bdrm, bath & kitchen(pls r...   \n",
       "2                                    BlissArtsSpace!   \n",
       "3           Spacious Brooklyn Duplex, Patio + Garden   \n",
       "4                   Large Furnished Room Near B'way　   \n",
       "\n",
       "                                         description  \\\n",
       "0  Beautiful, spacious skylit studio in the heart...   \n",
       "1  Enjoy 500 s.f. top floor in 1899 brownstone, w...   \n",
       "2  <b>The space</b><br />HELLO EVERYONE AND THANK...   \n",
       "3  We welcome you to stay in our lovely 2 br dupl...   \n",
       "4  Please don’t expect the luxury here just a bas...   \n",
       "\n",
       "                               neighborhood_overview  host_id    host_name  \\\n",
       "0  Centrally located in the heart of Manhattan ju...     2845     Jennifer   \n",
       "1  Just the right mix of urban center and local n...     4869  LisaRoxanne   \n",
       "2                                                NaN     7356        Garon   \n",
       "3                                                NaN     7378      Rebecca   \n",
       "4    Theater district, many restaurants around here.     8967     Shunichi   \n",
       "\n",
       "   host_since                      host_location  ... review_scores_location  \\\n",
       "0  2008-09-09  New York, New York, United States  ...                   4.86   \n",
       "1  2008-12-07  New York, New York, United States  ...                   4.71   \n",
       "2  2009-02-03  New York, New York, United States  ...                   4.47   \n",
       "3  2009-02-03  Brooklyn, New York, United States  ...                   4.50   \n",
       "4  2009-03-03  New York, New York, United States  ...                   4.87   \n",
       "\n",
       "  review_scores_value license instant_bookable calculated_host_listings_count  \\\n",
       "0                4.41     NaN                f                              3   \n",
       "1                4.64     NaN                f                              1   \n",
       "2                4.52     NaN                f                              2   \n",
       "3                5.00     NaN                f                              1   \n",
       "4                4.36     NaN                f                              1   \n",
       "\n",
       "  calculated_host_listings_count_entire_homes  \\\n",
       "0                                           3   \n",
       "1                                           1   \n",
       "2                                           0   \n",
       "3                                           1   \n",
       "4                                           0   \n",
       "\n",
       "   calculated_host_listings_count_private_rooms  \\\n",
       "0                                             0   \n",
       "1                                             0   \n",
       "2                                             2   \n",
       "3                                             0   \n",
       "4                                             1   \n",
       "\n",
       "   calculated_host_listings_count_shared_rooms reviews_per_month label_price  \n",
       "0                                            0              0.33       150.0  \n",
       "1                                            0              4.86        75.0  \n",
       "2                                            0              0.52        60.0  \n",
       "3                                            0              0.02       275.0  \n",
       "4                                            0              3.68        68.0  \n",
       "\n",
       "[5 rows x 70 columns]"
      ]
     },
     "execution_count": 17,
     "metadata": {},
     "output_type": "execute_result"
    }
   ],
   "source": [
    "df.head()"
   ]
  },
  {
   "cell_type": "markdown",
   "metadata": {},
   "source": [
    "**Task**: Check that the values of `price` and `label_price` are *not* identical. \n",
    "\n",
    "You will do this by subtracting the two columns and finding the resulting *unique values*  of the resulting difference. <br>Note: If all values are identical, the difference would not contain unique values. If this is the case, outlier removal did not work."
   ]
  },
  {
   "cell_type": "code",
   "execution_count": 18,
   "metadata": {},
   "outputs": [
    {
     "data": {
      "text/plain": [
       "array([ 0.000e+00,  1.500e+03,  3.000e+02,  1.000e+03,  1.979e+03,\n",
       "       -1.000e+00,  8.990e+02,  2.000e+02,  9.990e+02,  5.000e+02,\n",
       "       -8.000e+00,  5.000e+03,  4.250e+03,  5.500e+02,  2.500e+02,\n",
       "        5.500e+03,  1.750e+03,  2.750e+03,  6.000e+02, -1.100e+01,\n",
       "        1.249e+03,  4.330e+02,  5.700e+01,  3.930e+02, -4.000e+00,\n",
       "        4.000e+02,  1.695e+03,  8.990e+03,  2.140e+02, -1.400e+01,\n",
       "        8.999e+03,  7.630e+02, -2.000e+00, -9.000e+00,  2.430e+02,\n",
       "        1.000e+02,  6.400e+01,  2.974e+03,  7.700e+01, -3.000e+00,\n",
       "       -7.000e+00,  3.500e+02,  2.450e+02,  8.100e+01,  5.710e+02,\n",
       "        6.314e+03, -5.000e+00, -1.000e+01,  2.000e+00,  9.900e+01,\n",
       "        1.200e+03,  4.300e+02,  1.100e+03,  8.500e+01,  4.000e+03,\n",
       "        9.000e+03,  1.350e+03,  5.000e+01,  2.000e+03,  1.299e+03,\n",
       "        1.430e+02,  1.499e+03,  3.700e+02, -1.900e+01,  6.184e+03,\n",
       "       -1.300e+01,  2.210e+02,  1.857e+03, -1.500e+01,  9.000e+02,\n",
       "        7.500e+01, -6.000e+00,  6.430e+02,  3.929e+03,  2.910e+02,\n",
       "        3.990e+02,  8.000e+03,  5.429e+03,  3.000e+03, -1.800e+01,\n",
       "        5.143e+03,  1.400e+03,  4.750e+02,  2.214e+03,  1.910e+02,\n",
       "        4.250e+02,  1.250e+02,  3.330e+02,  4.990e+02,  8.000e+02,\n",
       "        2.250e+02,  2.500e+03,  8.190e+02,  6.000e+03,  3.030e+02,\n",
       "        3.070e+02,  1.640e+02,  3.420e+02,  5.600e+01,  2.600e+03,\n",
       "        2.200e+03,  5.700e+02,  1.642e+03,  7.000e+00,  9.810e+02,\n",
       "        2.120e+02,  1.850e+03,  4.500e+01,  4.510e+02,  5.120e+02,\n",
       "        2.360e+02,  6.200e+01,  1.020e+02,  2.590e+02,  7.500e+02,\n",
       "        9.750e+02,  5.290e+02,  2.960e+02,  9.500e+02,  1.600e+03,\n",
       "        2.750e+02,  4.640e+02,  2.570e+02, -2.900e+01, -1.700e+01,\n",
       "        9.500e+01,  2.850e+02,  3.382e+03,  1.839e+03,  1.261e+03,\n",
       "        2.900e+01,  2.260e+02,  1.130e+02,  9.000e+00,  2.160e+02,\n",
       "        1.160e+02, -1.200e+01,  4.950e+02,  2.500e+01,  2.860e+02,\n",
       "        2.557e+03,  1.614e+03,  7.100e+01,  5.400e+01,  5.750e+02,\n",
       "        1.700e+03,  2.400e+01,  1.700e+01,  1.140e+02,  2.900e+02,\n",
       "        2.990e+02,  9.950e+02,  1.760e+02,  8.300e+02,  2.520e+03,\n",
       "        8.650e+02,  6.700e+01,  1.797e+03,  2.729e+03,  7.600e+02,\n",
       "        1.640e+03,  6.860e+02,  2.490e+02,  3.730e+02,  5.500e+01,\n",
       "        7.420e+02,  2.920e+02,  1.436e+03,  3.860e+02,  3.570e+02,\n",
       "        4.740e+02,  2.333e+03,  1.100e+01,  1.400e+01,  3.143e+03,\n",
       "        4.500e+02,  8.300e+01,  1.990e+02,  8.560e+02,  1.370e+02,\n",
       "        7.600e+01,  1.290e+02,  6.540e+02,  3.400e+01,  3.690e+02,\n",
       "        8.170e+02,  4.790e+02,  8.970e+02,  3.140e+02,  3.320e+02,\n",
       "        2.820e+02,  1.090e+02,  1.260e+02,  1.490e+02,  2.110e+02,\n",
       "        1.232e+03,  3.464e+03,  2.119e+03,  3.310e+02,  5.650e+02,\n",
       "        1.071e+03,  2.855e+03,  1.050e+03,  1.157e+03,  4.655e+03,\n",
       "        9.800e+02])"
      ]
     },
     "execution_count": 18,
     "metadata": {},
     "output_type": "execute_result"
    }
   ],
   "source": [
    "difference = df['price'] - df['label_price']\n",
    "unique_differences = difference.unique()\n",
    "unique_differences"
   ]
  },
  {
   "cell_type": "markdown",
   "metadata": {},
   "source": [
    "### b. Handle Missing Data\n",
    "\n",
    "Next we are going to find missing values in our entire dataset and impute the missing values by\n",
    "replace them with means."
   ]
  },
  {
   "cell_type": "markdown",
   "metadata": {},
   "source": [
    "#### Identifying missingness"
   ]
  },
  {
   "cell_type": "markdown",
   "metadata": {},
   "source": [
    "**Task**: Check if a given value in the data is missing, and sum up the resulting values by columns. Save this sum to variable `nan_count`. Print the results."
   ]
  },
  {
   "cell_type": "code",
   "execution_count": 19,
   "metadata": {},
   "outputs": [
    {
     "data": {
      "text/plain": [
       "id                                                 0\n",
       "scrape_id                                          0\n",
       "last_scraped                                       0\n",
       "name                                              13\n",
       "description                                     1192\n",
       "                                                ... \n",
       "calculated_host_listings_count_entire_homes        0\n",
       "calculated_host_listings_count_private_rooms       0\n",
       "calculated_host_listings_count_shared_rooms        0\n",
       "reviews_per_month                               9504\n",
       "label_price                                        0\n",
       "Length: 70, dtype: int64"
      ]
     },
     "execution_count": 19,
     "metadata": {},
     "output_type": "execute_result"
    }
   ],
   "source": [
    "nan_count = df.isna().sum()\n",
    "nan_count"
   ]
  },
  {
   "cell_type": "markdown",
   "metadata": {},
   "source": [
    "Those are more columns than we can eyeball! For this exercise, we don't care about the number of missing values -- we just want to get a list of columns that have *any* missing values.\n",
    "\n",
    "<b>Task</b>: From the variable `nan_count`, create a new series called `nan_detected` that contains `True` or `False` values that indicate whether the number of missing values is *not zero*:"
   ]
  },
  {
   "cell_type": "code",
   "execution_count": 20,
   "metadata": {},
   "outputs": [
    {
     "data": {
      "text/plain": [
       "id                                              False\n",
       "scrape_id                                       False\n",
       "last_scraped                                    False\n",
       "name                                             True\n",
       "description                                      True\n",
       "                                                ...  \n",
       "calculated_host_listings_count_entire_homes     False\n",
       "calculated_host_listings_count_private_rooms    False\n",
       "calculated_host_listings_count_shared_rooms     False\n",
       "reviews_per_month                                True\n",
       "label_price                                     False\n",
       "Length: 70, dtype: bool"
      ]
     },
     "execution_count": 20,
     "metadata": {},
     "output_type": "execute_result"
    }
   ],
   "source": [
    "nan_detected = nan_count > 0\n",
    "nan_detected"
   ]
  },
  {
   "cell_type": "markdown",
   "metadata": {},
   "source": [
    "Since replacing the missing values with the mean only makes sense for the columns that contain numerical values (and not for strings), let us create another condition: the *type* of the column must be `int` or `float`."
   ]
  },
  {
   "cell_type": "markdown",
   "metadata": {},
   "source": [
    "**Task**: Create a series that contains `True` if the type of the column is either `int64` or `float64`. Save the results to the variable `is_int_or_float`."
   ]
  },
  {
   "cell_type": "code",
   "execution_count": 21,
   "metadata": {},
   "outputs": [
    {
     "data": {
      "text/plain": [
       "id                                               True\n",
       "scrape_id                                        True\n",
       "last_scraped                                    False\n",
       "name                                            False\n",
       "description                                     False\n",
       "                                                ...  \n",
       "calculated_host_listings_count_entire_homes      True\n",
       "calculated_host_listings_count_private_rooms     True\n",
       "calculated_host_listings_count_shared_rooms      True\n",
       "reviews_per_month                                True\n",
       "label_price                                      True\n",
       "Length: 70, dtype: bool"
      ]
     },
     "execution_count": 21,
     "metadata": {},
     "output_type": "execute_result"
    }
   ],
   "source": [
    "is_int_or_float = df.dtypes.isin([np.int64, np.float64]) # issue with this logic\n",
    "is_int_or_float\n",
    "\n",
    "is_numeric = df.dtypes.apply(lambda x: np.issubdtype(x, np.number))\n",
    "is_numeric"
   ]
  },
  {
   "cell_type": "markdown",
   "metadata": {},
   "source": [
    "<b>Task</b>: Combine the two binary series (`nan_detected` and `is_int_or_float`) into a new series named `to_impute`. It will contain the value `True` if a column contains missing values *and* is of type 'int' or 'float'"
   ]
  },
  {
   "cell_type": "code",
   "execution_count": 22,
   "metadata": {},
   "outputs": [
    {
     "data": {
      "text/plain": [
       "id                                              False\n",
       "scrape_id                                       False\n",
       "last_scraped                                    False\n",
       "name                                            False\n",
       "description                                     False\n",
       "                                                ...  \n",
       "calculated_host_listings_count_entire_homes     False\n",
       "calculated_host_listings_count_private_rooms    False\n",
       "calculated_host_listings_count_shared_rooms     False\n",
       "reviews_per_month                                True\n",
       "label_price                                     False\n",
       "Length: 70, dtype: bool"
      ]
     },
     "execution_count": 22,
     "metadata": {},
     "output_type": "execute_result"
    }
   ],
   "source": [
    "to_impute = nan_detected & is_numeric\n",
    "to_impute"
   ]
  },
  {
   "cell_type": "markdown",
   "metadata": {},
   "source": [
    "Finally, let's display a list that contains just the selected column names contained in `to_impute`:"
   ]
  },
  {
   "cell_type": "code",
   "execution_count": 23,
   "metadata": {},
   "outputs": [
    {
     "data": {
      "text/plain": [
       "Index(['host_listings_count', 'host_total_listings_count', 'bathrooms',\n",
       "       'bedrooms', 'beds', 'minimum_minimum_nights', 'maximum_minimum_nights',\n",
       "       'minimum_maximum_nights', 'maximum_maximum_nights',\n",
       "       'minimum_nights_avg_ntm', 'maximum_nights_avg_ntm', 'calendar_updated',\n",
       "       'review_scores_rating', 'review_scores_accuracy',\n",
       "       'review_scores_cleanliness', 'review_scores_checkin',\n",
       "       'review_scores_communication', 'review_scores_location',\n",
       "       'review_scores_value', 'reviews_per_month'],\n",
       "      dtype='object')"
      ]
     },
     "execution_count": 23,
     "metadata": {},
     "output_type": "execute_result"
    }
   ],
   "source": [
    "df.columns[to_impute]"
   ]
  },
  {
   "cell_type": "markdown",
   "metadata": {},
   "source": [
    "We just identified and displayed the list of candidate columns for potentially replacing missing values with the column mean."
   ]
  },
  {
   "cell_type": "markdown",
   "metadata": {},
   "source": [
    "Assume that you have decided that you should impute the values for these specific columns: `host_listings_count`, `host_total_listings_count`, `bathrooms`, `bedrooms`, and `beds`:"
   ]
  },
  {
   "cell_type": "code",
   "execution_count": 24,
   "metadata": {},
   "outputs": [],
   "source": [
    "to_impute_selected = ['host_listings_count', 'host_total_listings_count', 'bathrooms',\n",
    "       'bedrooms', 'beds']"
   ]
  },
  {
   "cell_type": "markdown",
   "metadata": {},
   "source": [
    "#### Keeping record of the missingness: creating dummy variables "
   ]
  },
  {
   "cell_type": "markdown",
   "metadata": {},
   "source": [
    "As a first step, you will now create dummy variables indicating the missingness of the values."
   ]
  },
  {
   "cell_type": "markdown",
   "metadata": {},
   "source": [
    "**Task**: For every column listed in `to_impute_selected`, create a new corresponding column called `<original-column-name>_na`. These columns should contain the a `True`or `False` value in place of `NaN`."
   ]
  },
  {
   "cell_type": "code",
   "execution_count": 25,
   "metadata": {},
   "outputs": [],
   "source": [
    "for col in to_impute_selected:\n",
    "    df[col + '_na'] = df[col].isna()"
   ]
  },
  {
   "cell_type": "markdown",
   "metadata": {},
   "source": [
    "Check that the DataFrame contains the new variables:"
   ]
  },
  {
   "cell_type": "code",
   "execution_count": 26,
   "metadata": {},
   "outputs": [
    {
     "data": {
      "text/html": [
       "<div>\n",
       "<style scoped>\n",
       "    .dataframe tbody tr th:only-of-type {\n",
       "        vertical-align: middle;\n",
       "    }\n",
       "\n",
       "    .dataframe tbody tr th {\n",
       "        vertical-align: top;\n",
       "    }\n",
       "\n",
       "    .dataframe thead th {\n",
       "        text-align: right;\n",
       "    }\n",
       "</style>\n",
       "<table border=\"1\" class=\"dataframe\">\n",
       "  <thead>\n",
       "    <tr style=\"text-align: right;\">\n",
       "      <th></th>\n",
       "      <th>id</th>\n",
       "      <th>scrape_id</th>\n",
       "      <th>last_scraped</th>\n",
       "      <th>name</th>\n",
       "      <th>description</th>\n",
       "      <th>neighborhood_overview</th>\n",
       "      <th>host_id</th>\n",
       "      <th>host_name</th>\n",
       "      <th>host_since</th>\n",
       "      <th>host_location</th>\n",
       "      <th>...</th>\n",
       "      <th>calculated_host_listings_count_entire_homes</th>\n",
       "      <th>calculated_host_listings_count_private_rooms</th>\n",
       "      <th>calculated_host_listings_count_shared_rooms</th>\n",
       "      <th>reviews_per_month</th>\n",
       "      <th>label_price</th>\n",
       "      <th>host_listings_count_na</th>\n",
       "      <th>host_total_listings_count_na</th>\n",
       "      <th>bathrooms_na</th>\n",
       "      <th>bedrooms_na</th>\n",
       "      <th>beds_na</th>\n",
       "    </tr>\n",
       "  </thead>\n",
       "  <tbody>\n",
       "    <tr>\n",
       "      <th>0</th>\n",
       "      <td>2595</td>\n",
       "      <td>20211204143024</td>\n",
       "      <td>2021-12-05</td>\n",
       "      <td>Skylit Midtown Castle</td>\n",
       "      <td>Beautiful, spacious skylit studio in the heart...</td>\n",
       "      <td>Centrally located in the heart of Manhattan ju...</td>\n",
       "      <td>2845</td>\n",
       "      <td>Jennifer</td>\n",
       "      <td>2008-09-09</td>\n",
       "      <td>New York, New York, United States</td>\n",
       "      <td>...</td>\n",
       "      <td>3</td>\n",
       "      <td>0</td>\n",
       "      <td>0</td>\n",
       "      <td>0.33</td>\n",
       "      <td>150.0</td>\n",
       "      <td>False</td>\n",
       "      <td>False</td>\n",
       "      <td>True</td>\n",
       "      <td>True</td>\n",
       "      <td>False</td>\n",
       "    </tr>\n",
       "    <tr>\n",
       "      <th>1</th>\n",
       "      <td>3831</td>\n",
       "      <td>20211204143024</td>\n",
       "      <td>2021-12-05</td>\n",
       "      <td>Whole flr w/private bdrm, bath &amp; kitchen(pls r...</td>\n",
       "      <td>Enjoy 500 s.f. top floor in 1899 brownstone, w...</td>\n",
       "      <td>Just the right mix of urban center and local n...</td>\n",
       "      <td>4869</td>\n",
       "      <td>LisaRoxanne</td>\n",
       "      <td>2008-12-07</td>\n",
       "      <td>New York, New York, United States</td>\n",
       "      <td>...</td>\n",
       "      <td>1</td>\n",
       "      <td>0</td>\n",
       "      <td>0</td>\n",
       "      <td>4.86</td>\n",
       "      <td>75.0</td>\n",
       "      <td>False</td>\n",
       "      <td>False</td>\n",
       "      <td>True</td>\n",
       "      <td>False</td>\n",
       "      <td>False</td>\n",
       "    </tr>\n",
       "    <tr>\n",
       "      <th>2</th>\n",
       "      <td>5121</td>\n",
       "      <td>20211204143024</td>\n",
       "      <td>2021-12-05</td>\n",
       "      <td>BlissArtsSpace!</td>\n",
       "      <td>&lt;b&gt;The space&lt;/b&gt;&lt;br /&gt;HELLO EVERYONE AND THANK...</td>\n",
       "      <td>NaN</td>\n",
       "      <td>7356</td>\n",
       "      <td>Garon</td>\n",
       "      <td>2009-02-03</td>\n",
       "      <td>New York, New York, United States</td>\n",
       "      <td>...</td>\n",
       "      <td>0</td>\n",
       "      <td>2</td>\n",
       "      <td>0</td>\n",
       "      <td>0.52</td>\n",
       "      <td>60.0</td>\n",
       "      <td>False</td>\n",
       "      <td>False</td>\n",
       "      <td>True</td>\n",
       "      <td>False</td>\n",
       "      <td>False</td>\n",
       "    </tr>\n",
       "    <tr>\n",
       "      <th>3</th>\n",
       "      <td>5136</td>\n",
       "      <td>20211204143024</td>\n",
       "      <td>2021-12-05</td>\n",
       "      <td>Spacious Brooklyn Duplex, Patio + Garden</td>\n",
       "      <td>We welcome you to stay in our lovely 2 br dupl...</td>\n",
       "      <td>NaN</td>\n",
       "      <td>7378</td>\n",
       "      <td>Rebecca</td>\n",
       "      <td>2009-02-03</td>\n",
       "      <td>Brooklyn, New York, United States</td>\n",
       "      <td>...</td>\n",
       "      <td>1</td>\n",
       "      <td>0</td>\n",
       "      <td>0</td>\n",
       "      <td>0.02</td>\n",
       "      <td>275.0</td>\n",
       "      <td>False</td>\n",
       "      <td>False</td>\n",
       "      <td>True</td>\n",
       "      <td>False</td>\n",
       "      <td>False</td>\n",
       "    </tr>\n",
       "    <tr>\n",
       "      <th>4</th>\n",
       "      <td>5178</td>\n",
       "      <td>20211204143024</td>\n",
       "      <td>2021-12-05</td>\n",
       "      <td>Large Furnished Room Near B'way</td>\n",
       "      <td>Please don’t expect the luxury here just a bas...</td>\n",
       "      <td>Theater district, many restaurants around here.</td>\n",
       "      <td>8967</td>\n",
       "      <td>Shunichi</td>\n",
       "      <td>2009-03-03</td>\n",
       "      <td>New York, New York, United States</td>\n",
       "      <td>...</td>\n",
       "      <td>0</td>\n",
       "      <td>1</td>\n",
       "      <td>0</td>\n",
       "      <td>3.68</td>\n",
       "      <td>68.0</td>\n",
       "      <td>False</td>\n",
       "      <td>False</td>\n",
       "      <td>True</td>\n",
       "      <td>False</td>\n",
       "      <td>False</td>\n",
       "    </tr>\n",
       "  </tbody>\n",
       "</table>\n",
       "<p>5 rows × 75 columns</p>\n",
       "</div>"
      ],
      "text/plain": [
       "     id       scrape_id last_scraped  \\\n",
       "0  2595  20211204143024   2021-12-05   \n",
       "1  3831  20211204143024   2021-12-05   \n",
       "2  5121  20211204143024   2021-12-05   \n",
       "3  5136  20211204143024   2021-12-05   \n",
       "4  5178  20211204143024   2021-12-05   \n",
       "\n",
       "                                                name  \\\n",
       "0                              Skylit Midtown Castle   \n",
       "1  Whole flr w/private bdrm, bath & kitchen(pls r...   \n",
       "2                                    BlissArtsSpace!   \n",
       "3           Spacious Brooklyn Duplex, Patio + Garden   \n",
       "4                   Large Furnished Room Near B'way　   \n",
       "\n",
       "                                         description  \\\n",
       "0  Beautiful, spacious skylit studio in the heart...   \n",
       "1  Enjoy 500 s.f. top floor in 1899 brownstone, w...   \n",
       "2  <b>The space</b><br />HELLO EVERYONE AND THANK...   \n",
       "3  We welcome you to stay in our lovely 2 br dupl...   \n",
       "4  Please don’t expect the luxury here just a bas...   \n",
       "\n",
       "                               neighborhood_overview  host_id    host_name  \\\n",
       "0  Centrally located in the heart of Manhattan ju...     2845     Jennifer   \n",
       "1  Just the right mix of urban center and local n...     4869  LisaRoxanne   \n",
       "2                                                NaN     7356        Garon   \n",
       "3                                                NaN     7378      Rebecca   \n",
       "4    Theater district, many restaurants around here.     8967     Shunichi   \n",
       "\n",
       "   host_since                      host_location  ...  \\\n",
       "0  2008-09-09  New York, New York, United States  ...   \n",
       "1  2008-12-07  New York, New York, United States  ...   \n",
       "2  2009-02-03  New York, New York, United States  ...   \n",
       "3  2009-02-03  Brooklyn, New York, United States  ...   \n",
       "4  2009-03-03  New York, New York, United States  ...   \n",
       "\n",
       "  calculated_host_listings_count_entire_homes  \\\n",
       "0                                           3   \n",
       "1                                           1   \n",
       "2                                           0   \n",
       "3                                           1   \n",
       "4                                           0   \n",
       "\n",
       "  calculated_host_listings_count_private_rooms  \\\n",
       "0                                            0   \n",
       "1                                            0   \n",
       "2                                            2   \n",
       "3                                            0   \n",
       "4                                            1   \n",
       "\n",
       "  calculated_host_listings_count_shared_rooms reviews_per_month label_price  \\\n",
       "0                                           0              0.33       150.0   \n",
       "1                                           0              4.86        75.0   \n",
       "2                                           0              0.52        60.0   \n",
       "3                                           0              0.02       275.0   \n",
       "4                                           0              3.68        68.0   \n",
       "\n",
       "  host_listings_count_na  host_total_listings_count_na  bathrooms_na  \\\n",
       "0                  False                         False          True   \n",
       "1                  False                         False          True   \n",
       "2                  False                         False          True   \n",
       "3                  False                         False          True   \n",
       "4                  False                         False          True   \n",
       "\n",
       "  bedrooms_na beds_na  \n",
       "0        True   False  \n",
       "1       False   False  \n",
       "2       False   False  \n",
       "3       False   False  \n",
       "4       False   False  \n",
       "\n",
       "[5 rows x 75 columns]"
      ]
     },
     "execution_count": 26,
     "metadata": {},
     "output_type": "execute_result"
    }
   ],
   "source": [
    "df.head()"
   ]
  },
  {
   "cell_type": "markdown",
   "metadata": {},
   "source": [
    "#### Replacing the missing values with mean values of the column"
   ]
  },
  {
   "cell_type": "markdown",
   "metadata": {},
   "source": [
    "**Task**: For every column listed in `to_impute_selected`, fill the missing values with the corresponding mean of all values in the column (do not create new columns)."
   ]
  },
  {
   "cell_type": "code",
   "execution_count": 27,
   "metadata": {},
   "outputs": [],
   "source": [
    "for col in to_impute_selected:\n",
    "    df[col].fillna(df[col].mean(), inplace=True)"
   ]
  },
  {
   "cell_type": "markdown",
   "metadata": {},
   "source": [
    "Check your results below. The code displays the count of missing values for each of the selected columns. "
   ]
  },
  {
   "cell_type": "code",
   "execution_count": 28,
   "metadata": {},
   "outputs": [
    {
     "name": "stdout",
     "output_type": "stream",
     "text": [
      "host_listings_count missing values count :0\n",
      "host_total_listings_count missing values count :0\n",
      "bathrooms missing values count :38277\n",
      "bedrooms missing values count :0\n",
      "beds missing values count :0\n"
     ]
    }
   ],
   "source": [
    "for colname in to_impute_selected:\n",
    "    print(\"{} missing values count :{}\".format(colname, np.sum(df[colname].isnull(), axis = 0)))\n"
   ]
  },
  {
   "cell_type": "markdown",
   "metadata": {},
   "source": [
    "Why did the `bathrooms` column retain missing values after our imputation?"
   ]
  },
  {
   "cell_type": "markdown",
   "metadata": {},
   "source": [
    "**Task**: List the unique values of the `bathrooms` column."
   ]
  },
  {
   "cell_type": "code",
   "execution_count": 29,
   "metadata": {},
   "outputs": [
    {
     "data": {
      "text/plain": [
       "array([nan])"
      ]
     },
     "execution_count": 29,
     "metadata": {},
     "output_type": "execute_result"
    }
   ],
   "source": [
    "df['bathrooms'].unique()"
   ]
  },
  {
   "cell_type": "markdown",
   "metadata": {},
   "source": [
    "The column did not contain a single value (except the `NaN` indicator) to begin with."
   ]
  },
  {
   "cell_type": "markdown",
   "metadata": {},
   "source": [
    "## Part 3. Perform One-Hot Encoding"
   ]
  },
  {
   "cell_type": "markdown",
   "metadata": {},
   "source": [
    "Machine learning algorithms operate on numerical inputs. Therefore, we have to transform text data into some form of numerical representation to prepare our data for the model training phase. Some features that contain text data are categorical. Others are not. For example, we removed all of the features that contained URLs. These features were not categorical, but rather contained what is called unstructured text. However, not all features that contain unstructured text should be removed, as they can contain useful information for our machine learning problem. Unstructured text data is usually handled by Natural Language Processing (NLP) techniques. You will learn more about NLP later in this course. \n",
    "\n",
    "However, for features that contain categorical values, one-hot encoding is a common feature engineering technique that transforms them into binary representations. "
   ]
  },
  {
   "cell_type": "markdown",
   "metadata": {},
   "source": [
    "We will first choose one feature column to one-hot encode: `host_response_time`. Let's inspect the unique values this feature can have. "
   ]
  },
  {
   "cell_type": "code",
   "execution_count": 30,
   "metadata": {},
   "outputs": [
    {
     "data": {
      "text/plain": [
       "array(['within a day', 'a few days or more', 'within an hour', nan,\n",
       "       'within a few hours'], dtype=object)"
      ]
     },
     "execution_count": 30,
     "metadata": {},
     "output_type": "execute_result"
    }
   ],
   "source": [
    "df['host_response_time'].unique()"
   ]
  },
  {
   "cell_type": "markdown",
   "metadata": {},
   "source": [
    "Note that each entry can contain one of five possible values. \n",
    "\n",
    "**Task**: Since one of these values is `NaN`, replace every entry in the column `host_response_time` that contains a `NaN` value with the string 'unavailable'."
   ]
  },
  {
   "cell_type": "code",
   "execution_count": 31,
   "metadata": {},
   "outputs": [],
   "source": [
    "df['host_response_time'].fillna('unavailable', inplace=True)"
   ]
  },
  {
   "cell_type": "markdown",
   "metadata": {},
   "source": [
    "Let's inspect the `host_response_time` column to see the new values."
   ]
  },
  {
   "cell_type": "code",
   "execution_count": 32,
   "metadata": {},
   "outputs": [
    {
     "data": {
      "text/plain": [
       "array(['within a day', 'a few days or more', 'within an hour',\n",
       "       'unavailable', 'within a few hours'], dtype=object)"
      ]
     },
     "execution_count": 32,
     "metadata": {},
     "output_type": "execute_result"
    }
   ],
   "source": [
    "df['host_response_time'].unique()"
   ]
  },
  {
   "cell_type": "markdown",
   "metadata": {},
   "source": [
    "**Task**: Use `pd.get_dummies()` to one-hot encode the `host_response_time` column. Save the result to DataFrame `df_host_response_time`. "
   ]
  },
  {
   "cell_type": "code",
   "execution_count": 33,
   "metadata": {},
   "outputs": [
    {
     "data": {
      "text/html": [
       "<div>\n",
       "<style scoped>\n",
       "    .dataframe tbody tr th:only-of-type {\n",
       "        vertical-align: middle;\n",
       "    }\n",
       "\n",
       "    .dataframe tbody tr th {\n",
       "        vertical-align: top;\n",
       "    }\n",
       "\n",
       "    .dataframe thead th {\n",
       "        text-align: right;\n",
       "    }\n",
       "</style>\n",
       "<table border=\"1\" class=\"dataframe\">\n",
       "  <thead>\n",
       "    <tr style=\"text-align: right;\">\n",
       "      <th></th>\n",
       "      <th>host_response_time_a few days or more</th>\n",
       "      <th>host_response_time_unavailable</th>\n",
       "      <th>host_response_time_within a day</th>\n",
       "      <th>host_response_time_within a few hours</th>\n",
       "      <th>host_response_time_within an hour</th>\n",
       "    </tr>\n",
       "  </thead>\n",
       "  <tbody>\n",
       "    <tr>\n",
       "      <th>0</th>\n",
       "      <td>0</td>\n",
       "      <td>0</td>\n",
       "      <td>1</td>\n",
       "      <td>0</td>\n",
       "      <td>0</td>\n",
       "    </tr>\n",
       "    <tr>\n",
       "      <th>1</th>\n",
       "      <td>1</td>\n",
       "      <td>0</td>\n",
       "      <td>0</td>\n",
       "      <td>0</td>\n",
       "      <td>0</td>\n",
       "    </tr>\n",
       "    <tr>\n",
       "      <th>2</th>\n",
       "      <td>0</td>\n",
       "      <td>0</td>\n",
       "      <td>0</td>\n",
       "      <td>0</td>\n",
       "      <td>1</td>\n",
       "    </tr>\n",
       "    <tr>\n",
       "      <th>3</th>\n",
       "      <td>0</td>\n",
       "      <td>0</td>\n",
       "      <td>1</td>\n",
       "      <td>0</td>\n",
       "      <td>0</td>\n",
       "    </tr>\n",
       "    <tr>\n",
       "      <th>4</th>\n",
       "      <td>0</td>\n",
       "      <td>0</td>\n",
       "      <td>1</td>\n",
       "      <td>0</td>\n",
       "      <td>0</td>\n",
       "    </tr>\n",
       "    <tr>\n",
       "      <th>...</th>\n",
       "      <td>...</td>\n",
       "      <td>...</td>\n",
       "      <td>...</td>\n",
       "      <td>...</td>\n",
       "      <td>...</td>\n",
       "    </tr>\n",
       "    <tr>\n",
       "      <th>38272</th>\n",
       "      <td>0</td>\n",
       "      <td>0</td>\n",
       "      <td>0</td>\n",
       "      <td>1</td>\n",
       "      <td>0</td>\n",
       "    </tr>\n",
       "    <tr>\n",
       "      <th>38273</th>\n",
       "      <td>0</td>\n",
       "      <td>0</td>\n",
       "      <td>0</td>\n",
       "      <td>1</td>\n",
       "      <td>0</td>\n",
       "    </tr>\n",
       "    <tr>\n",
       "      <th>38274</th>\n",
       "      <td>0</td>\n",
       "      <td>0</td>\n",
       "      <td>0</td>\n",
       "      <td>0</td>\n",
       "      <td>1</td>\n",
       "    </tr>\n",
       "    <tr>\n",
       "      <th>38275</th>\n",
       "      <td>0</td>\n",
       "      <td>0</td>\n",
       "      <td>0</td>\n",
       "      <td>0</td>\n",
       "      <td>1</td>\n",
       "    </tr>\n",
       "    <tr>\n",
       "      <th>38276</th>\n",
       "      <td>0</td>\n",
       "      <td>0</td>\n",
       "      <td>0</td>\n",
       "      <td>0</td>\n",
       "      <td>1</td>\n",
       "    </tr>\n",
       "  </tbody>\n",
       "</table>\n",
       "<p>38277 rows × 5 columns</p>\n",
       "</div>"
      ],
      "text/plain": [
       "       host_response_time_a few days or more  host_response_time_unavailable  \\\n",
       "0                                          0                               0   \n",
       "1                                          1                               0   \n",
       "2                                          0                               0   \n",
       "3                                          0                               0   \n",
       "4                                          0                               0   \n",
       "...                                      ...                             ...   \n",
       "38272                                      0                               0   \n",
       "38273                                      0                               0   \n",
       "38274                                      0                               0   \n",
       "38275                                      0                               0   \n",
       "38276                                      0                               0   \n",
       "\n",
       "       host_response_time_within a day  host_response_time_within a few hours  \\\n",
       "0                                    1                                      0   \n",
       "1                                    0                                      0   \n",
       "2                                    0                                      0   \n",
       "3                                    1                                      0   \n",
       "4                                    1                                      0   \n",
       "...                                ...                                    ...   \n",
       "38272                                0                                      1   \n",
       "38273                                0                                      1   \n",
       "38274                                0                                      0   \n",
       "38275                                0                                      0   \n",
       "38276                                0                                      0   \n",
       "\n",
       "       host_response_time_within an hour  \n",
       "0                                      0  \n",
       "1                                      0  \n",
       "2                                      1  \n",
       "3                                      0  \n",
       "4                                      0  \n",
       "...                                  ...  \n",
       "38272                                  0  \n",
       "38273                                  0  \n",
       "38274                                  1  \n",
       "38275                                  1  \n",
       "38276                                  1  \n",
       "\n",
       "[38277 rows x 5 columns]"
      ]
     },
     "execution_count": 33,
     "metadata": {},
     "output_type": "execute_result"
    }
   ],
   "source": [
    "df_host_response_time = pd.get_dummies(df['host_response_time'], prefix='host_response_time')\n",
    "df_host_response_time"
   ]
  },
  {
   "cell_type": "markdown",
   "metadata": {},
   "source": [
    "**Task**: Since the `pd.get_dummies()` function returned a new DataFrame rather than making the changes to the original DataFrame `df`, add the new DataFrame `df_host_response_time` to DataFrame `df`, and delete the original `host_response_time` column from DataFrame `df`.\n"
   ]
  },
  {
   "cell_type": "code",
   "execution_count": 34,
   "metadata": {},
   "outputs": [],
   "source": [
    "df = pd.concat([df, df_host_response_time], axis=1)\n",
    "df.drop(columns=['host_response_time'], inplace=True)"
   ]
  },
  {
   "cell_type": "markdown",
   "metadata": {},
   "source": [
    "Let's inspect DataFrame `df` to see the changes that have been made."
   ]
  },
  {
   "cell_type": "code",
   "execution_count": 35,
   "metadata": {},
   "outputs": [
    {
     "data": {
      "text/plain": [
       "Index(['id', 'scrape_id', 'last_scraped', 'name', 'description',\n",
       "       'neighborhood_overview', 'host_id', 'host_name', 'host_since',\n",
       "       'host_location', 'host_about', 'host_response_rate',\n",
       "       'host_acceptance_rate', 'host_is_superhost', 'host_neighbourhood',\n",
       "       'host_listings_count', 'host_total_listings_count',\n",
       "       'host_verifications', 'host_has_profile_pic', 'host_identity_verified',\n",
       "       'neighbourhood', 'neighbourhood_cleansed',\n",
       "       'neighbourhood_group_cleansed', 'latitude', 'longitude',\n",
       "       'property_type', 'room_type', 'accommodates', 'bathrooms',\n",
       "       'bathrooms_text', 'bedrooms', 'beds', 'amenities', 'price',\n",
       "       'minimum_nights', 'maximum_nights', 'minimum_minimum_nights',\n",
       "       'maximum_minimum_nights', 'minimum_maximum_nights',\n",
       "       'maximum_maximum_nights', 'minimum_nights_avg_ntm',\n",
       "       'maximum_nights_avg_ntm', 'calendar_updated', 'has_availability',\n",
       "       'availability_30', 'availability_60', 'availability_90',\n",
       "       'availability_365', 'calendar_last_scraped', 'number_of_reviews',\n",
       "       'number_of_reviews_ltm', 'number_of_reviews_l30d', 'first_review',\n",
       "       'last_review', 'review_scores_rating', 'review_scores_accuracy',\n",
       "       'review_scores_cleanliness', 'review_scores_checkin',\n",
       "       'review_scores_communication', 'review_scores_location',\n",
       "       'review_scores_value', 'license', 'instant_bookable',\n",
       "       'calculated_host_listings_count',\n",
       "       'calculated_host_listings_count_entire_homes',\n",
       "       'calculated_host_listings_count_private_rooms',\n",
       "       'calculated_host_listings_count_shared_rooms', 'reviews_per_month',\n",
       "       'label_price', 'host_listings_count_na', 'host_total_listings_count_na',\n",
       "       'bathrooms_na', 'bedrooms_na', 'beds_na',\n",
       "       'host_response_time_a few days or more',\n",
       "       'host_response_time_unavailable', 'host_response_time_within a day',\n",
       "       'host_response_time_within a few hours',\n",
       "       'host_response_time_within an hour'],\n",
       "      dtype='object')"
      ]
     },
     "execution_count": 35,
     "metadata": {},
     "output_type": "execute_result"
    }
   ],
   "source": [
    "df.columns"
   ]
  },
  {
   "cell_type": "markdown",
   "metadata": {},
   "source": [
    "#### One-hot encode additional features\n",
    "\n",
    "**Task**: Use the code cell below to find columns that contain string values  (the 'object' data type) and inspect the *number* of unique values each column has."
   ]
  },
  {
   "cell_type": "code",
   "execution_count": 36,
   "metadata": {},
   "outputs": [
    {
     "data": {
      "text/plain": [
       "last_scraped                        2\n",
       "name                            36870\n",
       "description                     34133\n",
       "neighborhood_overview           18616\n",
       "host_name                        9123\n",
       "host_since                       4289\n",
       "host_location                    1747\n",
       "host_about                      14424\n",
       "host_response_rate                 88\n",
       "host_acceptance_rate              101\n",
       "host_is_superhost                   2\n",
       "host_neighbourhood                484\n",
       "host_verifications                526\n",
       "host_has_profile_pic                2\n",
       "host_identity_verified              2\n",
       "neighbourhood                     207\n",
       "neighbourhood_cleansed            222\n",
       "neighbourhood_group_cleansed        5\n",
       "property_type                      78\n",
       "room_type                           4\n",
       "bathrooms_text                     30\n",
       "amenities                       31740\n",
       "has_availability                    2\n",
       "calendar_last_scraped               2\n",
       "first_review                     3171\n",
       "last_review                      2560\n",
       "license                             1\n",
       "instant_bookable                    2\n",
       "dtype: int64"
      ]
     },
     "execution_count": 36,
     "metadata": {},
     "output_type": "execute_result"
    }
   ],
   "source": [
    "string_columns = df.select_dtypes(include=['object']).nunique()\n",
    "string_columns"
   ]
  },
  {
   "cell_type": "markdown",
   "metadata": {},
   "source": [
    "**Task**: Based on your findings, identify features that you think should be transformed using one-hot encoding.\n",
    "\n",
    "1. Use the code cell below to inspect the unique *values* that each of these features have."
   ]
  },
  {
   "cell_type": "code",
   "execution_count": 37,
   "metadata": {},
   "outputs": [
    {
     "data": {
      "text/html": [
       "<div>\n",
       "<style scoped>\n",
       "    .dataframe tbody tr th:only-of-type {\n",
       "        vertical-align: middle;\n",
       "    }\n",
       "\n",
       "    .dataframe tbody tr th {\n",
       "        vertical-align: top;\n",
       "    }\n",
       "\n",
       "    .dataframe thead th {\n",
       "        text-align: right;\n",
       "    }\n",
       "</style>\n",
       "<table border=\"1\" class=\"dataframe\">\n",
       "  <thead>\n",
       "    <tr style=\"text-align: right;\">\n",
       "      <th></th>\n",
       "      <th>id</th>\n",
       "      <th>scrape_id</th>\n",
       "      <th>name</th>\n",
       "      <th>description</th>\n",
       "      <th>neighborhood_overview</th>\n",
       "      <th>host_id</th>\n",
       "      <th>host_name</th>\n",
       "      <th>host_since</th>\n",
       "      <th>host_location</th>\n",
       "      <th>host_about</th>\n",
       "      <th>...</th>\n",
       "      <th>room_type_Hotel room</th>\n",
       "      <th>room_type_Private room</th>\n",
       "      <th>room_type_Shared room</th>\n",
       "      <th>has_availability_f</th>\n",
       "      <th>has_availability_t</th>\n",
       "      <th>calendar_last_scraped_2021-12-04</th>\n",
       "      <th>calendar_last_scraped_2021-12-05</th>\n",
       "      <th>license_41662/AL</th>\n",
       "      <th>instant_bookable_f</th>\n",
       "      <th>instant_bookable_t</th>\n",
       "    </tr>\n",
       "  </thead>\n",
       "  <tbody>\n",
       "    <tr>\n",
       "      <th>0</th>\n",
       "      <td>2595</td>\n",
       "      <td>20211204143024</td>\n",
       "      <td>Skylit Midtown Castle</td>\n",
       "      <td>Beautiful, spacious skylit studio in the heart...</td>\n",
       "      <td>Centrally located in the heart of Manhattan ju...</td>\n",
       "      <td>2845</td>\n",
       "      <td>Jennifer</td>\n",
       "      <td>2008-09-09</td>\n",
       "      <td>New York, New York, United States</td>\n",
       "      <td>A New Yorker since 2000! My passion is creatin...</td>\n",
       "      <td>...</td>\n",
       "      <td>0</td>\n",
       "      <td>0</td>\n",
       "      <td>0</td>\n",
       "      <td>0</td>\n",
       "      <td>1</td>\n",
       "      <td>0</td>\n",
       "      <td>1</td>\n",
       "      <td>0</td>\n",
       "      <td>1</td>\n",
       "      <td>0</td>\n",
       "    </tr>\n",
       "    <tr>\n",
       "      <th>1</th>\n",
       "      <td>3831</td>\n",
       "      <td>20211204143024</td>\n",
       "      <td>Whole flr w/private bdrm, bath &amp; kitchen(pls r...</td>\n",
       "      <td>Enjoy 500 s.f. top floor in 1899 brownstone, w...</td>\n",
       "      <td>Just the right mix of urban center and local n...</td>\n",
       "      <td>4869</td>\n",
       "      <td>LisaRoxanne</td>\n",
       "      <td>2008-12-07</td>\n",
       "      <td>New York, New York, United States</td>\n",
       "      <td>Laid-back Native New Yorker (formerly bi-coast...</td>\n",
       "      <td>...</td>\n",
       "      <td>0</td>\n",
       "      <td>0</td>\n",
       "      <td>0</td>\n",
       "      <td>0</td>\n",
       "      <td>1</td>\n",
       "      <td>0</td>\n",
       "      <td>1</td>\n",
       "      <td>0</td>\n",
       "      <td>1</td>\n",
       "      <td>0</td>\n",
       "    </tr>\n",
       "    <tr>\n",
       "      <th>2</th>\n",
       "      <td>5121</td>\n",
       "      <td>20211204143024</td>\n",
       "      <td>BlissArtsSpace!</td>\n",
       "      <td>&lt;b&gt;The space&lt;/b&gt;&lt;br /&gt;HELLO EVERYONE AND THANK...</td>\n",
       "      <td>NaN</td>\n",
       "      <td>7356</td>\n",
       "      <td>Garon</td>\n",
       "      <td>2009-02-03</td>\n",
       "      <td>New York, New York, United States</td>\n",
       "      <td>I am an artist(painter, filmmaker) and curato...</td>\n",
       "      <td>...</td>\n",
       "      <td>0</td>\n",
       "      <td>1</td>\n",
       "      <td>0</td>\n",
       "      <td>0</td>\n",
       "      <td>1</td>\n",
       "      <td>0</td>\n",
       "      <td>1</td>\n",
       "      <td>0</td>\n",
       "      <td>1</td>\n",
       "      <td>0</td>\n",
       "    </tr>\n",
       "    <tr>\n",
       "      <th>3</th>\n",
       "      <td>5136</td>\n",
       "      <td>20211204143024</td>\n",
       "      <td>Spacious Brooklyn Duplex, Patio + Garden</td>\n",
       "      <td>We welcome you to stay in our lovely 2 br dupl...</td>\n",
       "      <td>NaN</td>\n",
       "      <td>7378</td>\n",
       "      <td>Rebecca</td>\n",
       "      <td>2009-02-03</td>\n",
       "      <td>Brooklyn, New York, United States</td>\n",
       "      <td>Rebecca is an artist/designer, and Henoch is i...</td>\n",
       "      <td>...</td>\n",
       "      <td>0</td>\n",
       "      <td>0</td>\n",
       "      <td>0</td>\n",
       "      <td>0</td>\n",
       "      <td>1</td>\n",
       "      <td>0</td>\n",
       "      <td>1</td>\n",
       "      <td>0</td>\n",
       "      <td>1</td>\n",
       "      <td>0</td>\n",
       "    </tr>\n",
       "    <tr>\n",
       "      <th>4</th>\n",
       "      <td>5178</td>\n",
       "      <td>20211204143024</td>\n",
       "      <td>Large Furnished Room Near B'way</td>\n",
       "      <td>Please don’t expect the luxury here just a bas...</td>\n",
       "      <td>Theater district, many restaurants around here.</td>\n",
       "      <td>8967</td>\n",
       "      <td>Shunichi</td>\n",
       "      <td>2009-03-03</td>\n",
       "      <td>New York, New York, United States</td>\n",
       "      <td>I used to work for a financial industry but no...</td>\n",
       "      <td>...</td>\n",
       "      <td>0</td>\n",
       "      <td>1</td>\n",
       "      <td>0</td>\n",
       "      <td>0</td>\n",
       "      <td>1</td>\n",
       "      <td>0</td>\n",
       "      <td>1</td>\n",
       "      <td>0</td>\n",
       "      <td>1</td>\n",
       "      <td>0</td>\n",
       "    </tr>\n",
       "  </tbody>\n",
       "</table>\n",
       "<p>5 rows × 93 columns</p>\n",
       "</div>"
      ],
      "text/plain": [
       "     id       scrape_id                                               name  \\\n",
       "0  2595  20211204143024                              Skylit Midtown Castle   \n",
       "1  3831  20211204143024  Whole flr w/private bdrm, bath & kitchen(pls r...   \n",
       "2  5121  20211204143024                                    BlissArtsSpace!   \n",
       "3  5136  20211204143024           Spacious Brooklyn Duplex, Patio + Garden   \n",
       "4  5178  20211204143024                   Large Furnished Room Near B'way　   \n",
       "\n",
       "                                         description  \\\n",
       "0  Beautiful, spacious skylit studio in the heart...   \n",
       "1  Enjoy 500 s.f. top floor in 1899 brownstone, w...   \n",
       "2  <b>The space</b><br />HELLO EVERYONE AND THANK...   \n",
       "3  We welcome you to stay in our lovely 2 br dupl...   \n",
       "4  Please don’t expect the luxury here just a bas...   \n",
       "\n",
       "                               neighborhood_overview  host_id    host_name  \\\n",
       "0  Centrally located in the heart of Manhattan ju...     2845     Jennifer   \n",
       "1  Just the right mix of urban center and local n...     4869  LisaRoxanne   \n",
       "2                                                NaN     7356        Garon   \n",
       "3                                                NaN     7378      Rebecca   \n",
       "4    Theater district, many restaurants around here.     8967     Shunichi   \n",
       "\n",
       "   host_since                      host_location  \\\n",
       "0  2008-09-09  New York, New York, United States   \n",
       "1  2008-12-07  New York, New York, United States   \n",
       "2  2009-02-03  New York, New York, United States   \n",
       "3  2009-02-03  Brooklyn, New York, United States   \n",
       "4  2009-03-03  New York, New York, United States   \n",
       "\n",
       "                                          host_about  ...  \\\n",
       "0  A New Yorker since 2000! My passion is creatin...  ...   \n",
       "1  Laid-back Native New Yorker (formerly bi-coast...  ...   \n",
       "2   I am an artist(painter, filmmaker) and curato...  ...   \n",
       "3  Rebecca is an artist/designer, and Henoch is i...  ...   \n",
       "4  I used to work for a financial industry but no...  ...   \n",
       "\n",
       "  room_type_Hotel room room_type_Private room room_type_Shared room  \\\n",
       "0                    0                      0                     0   \n",
       "1                    0                      0                     0   \n",
       "2                    0                      1                     0   \n",
       "3                    0                      0                     0   \n",
       "4                    0                      1                     0   \n",
       "\n",
       "   has_availability_f  has_availability_t calendar_last_scraped_2021-12-04  \\\n",
       "0                   0                   1                                0   \n",
       "1                   0                   1                                0   \n",
       "2                   0                   1                                0   \n",
       "3                   0                   1                                0   \n",
       "4                   0                   1                                0   \n",
       "\n",
       "  calendar_last_scraped_2021-12-05 license_41662/AL  instant_bookable_f  \\\n",
       "0                                1                0                   1   \n",
       "1                                1                0                   1   \n",
       "2                                1                0                   1   \n",
       "3                                1                0                   1   \n",
       "4                                1                0                   1   \n",
       "\n",
       "   instant_bookable_t  \n",
       "0                   0  \n",
       "1                   0  \n",
       "2                   0  \n",
       "3                   0  \n",
       "4                   0  \n",
       "\n",
       "[5 rows x 93 columns]"
      ]
     },
     "execution_count": 37,
     "metadata": {},
     "output_type": "execute_result"
    }
   ],
   "source": [
    "features_to_encode = ['last_scraped','host_is_superhost','host_has_profile_pic','host_identity_verified','neighbourhood_group_cleansed','room_type','has_availability','calendar_last_scraped','license','instant_bookable']\n",
    "\n",
    "for feature in features_to_encode:\n",
    "    dummies = pd.get_dummies(df[feature], prefix=feature)\n",
    "    df = pd.concat([df, dummies], axis=1)\n",
    "    df.drop(columns=[feature], inplace=True)\n",
    "\n",
    "df.head()"
   ]
  },
  {
   "cell_type": "markdown",
   "metadata": {},
   "source": [
    "2.  List these features and explain why they would be suitable for one-hot encoding. Note your findings in the markdown cell below."
   ]
  },
  {
   "cell_type": "markdown",
   "metadata": {},
   "source": [
    "### Features Suitable for One-Hot Encoding\n",
    "\n",
    "1) \"last_scraped\", This feature has only 2 unique values. It is a categorical variable representing the date the data was last scraped.\n",
    "\n",
    "2) \"host_is_superhost\", This feature is binary (either 't' for true or 'f' for false). It indicates whether the host is a superhost, a categorical variable with only two possible values.\n",
    "\n",
    "3) \"host_has_profile_pic\", This feature is binary (either 't' for true or 'f' for false). It indicates whether the host has a profile picture, a categorical variable with only two possible values.\n",
    "\n",
    "4) \"host_identity_verified\", This feature is binary (either 't' for true or 'f' for false). It indicates whether the host's identity is verified, a categorical variable with only two possible values.\n",
    "\n",
    "5) \"neighbourhood_group_cleansed\", This feature has a small number of unique values representing different neighbourhood groups. It is a categorical variable.\n",
    "\n",
    "6) \"room_type\", This feature has 4 unique values. It is a categorical variable representing the type of room offered.\n",
    "\n",
    "7) \"has_availability\", This feature is binary (either 't' for true or 'f' for false). It indicates whether the listing has availability, a categorical variable with only two possible values.\n",
    "\n",
    "8) \"calendar_last_scraped\", This feature has only 2 unique values. It is a categorical variable representing the date the calendar was last scraped.\n",
    "\n",
    "9) \"license\". This feature has only 1 unique value in this dataset but could have more in a larger dataset. It is a categorical variable representing the license information.\n",
    "\n",
    "10) \"instant_bookable\", This feature is binary (either 't' for true or 'f' for false). It indicates whether the listing can be instantly booked, a categorical variable with only two possible values.\n"
   ]
  },
  {
   "cell_type": "markdown",
   "metadata": {},
   "source": [
    "**Task**: In the code cell below, one-hot encode one of the features you have identified and replace the original column in DataFrame `df` with the new one-hot encoded columns. "
   ]
  },
  {
   "cell_type": "code",
   "execution_count": 38,
   "metadata": {},
   "outputs": [
    {
     "data": {
      "text/html": [
       "<div>\n",
       "<style scoped>\n",
       "    .dataframe tbody tr th:only-of-type {\n",
       "        vertical-align: middle;\n",
       "    }\n",
       "\n",
       "    .dataframe tbody tr th {\n",
       "        vertical-align: top;\n",
       "    }\n",
       "\n",
       "    .dataframe thead th {\n",
       "        text-align: right;\n",
       "    }\n",
       "</style>\n",
       "<table border=\"1\" class=\"dataframe\">\n",
       "  <thead>\n",
       "    <tr style=\"text-align: right;\">\n",
       "      <th></th>\n",
       "      <th>id</th>\n",
       "      <th>scrape_id</th>\n",
       "      <th>name</th>\n",
       "      <th>description</th>\n",
       "      <th>neighborhood_overview</th>\n",
       "      <th>host_id</th>\n",
       "      <th>host_name</th>\n",
       "      <th>host_since</th>\n",
       "      <th>host_location</th>\n",
       "      <th>host_about</th>\n",
       "      <th>...</th>\n",
       "      <th>host_response_rate_90%</th>\n",
       "      <th>host_response_rate_91%</th>\n",
       "      <th>host_response_rate_92%</th>\n",
       "      <th>host_response_rate_93%</th>\n",
       "      <th>host_response_rate_94%</th>\n",
       "      <th>host_response_rate_95%</th>\n",
       "      <th>host_response_rate_96%</th>\n",
       "      <th>host_response_rate_97%</th>\n",
       "      <th>host_response_rate_98%</th>\n",
       "      <th>host_response_rate_99%</th>\n",
       "    </tr>\n",
       "  </thead>\n",
       "  <tbody>\n",
       "    <tr>\n",
       "      <th>38272</th>\n",
       "      <td>53662330</td>\n",
       "      <td>20211204143024</td>\n",
       "      <td>HUGE PRIVATE ROOM, AWESOME LOCATION</td>\n",
       "      <td>Must See! SPECTACULAR ONE FAMILY DUPLEX Home! ...</td>\n",
       "      <td>NaN</td>\n",
       "      <td>100146245</td>\n",
       "      <td>Serin</td>\n",
       "      <td>2016-10-18</td>\n",
       "      <td>US</td>\n",
       "      <td>NaN</td>\n",
       "      <td>...</td>\n",
       "      <td>0</td>\n",
       "      <td>0</td>\n",
       "      <td>0</td>\n",
       "      <td>0</td>\n",
       "      <td>0</td>\n",
       "      <td>0</td>\n",
       "      <td>0</td>\n",
       "      <td>1</td>\n",
       "      <td>0</td>\n",
       "      <td>0</td>\n",
       "    </tr>\n",
       "    <tr>\n",
       "      <th>38273</th>\n",
       "      <td>53662542</td>\n",
       "      <td>20211204143024</td>\n",
       "      <td>LARGE PRVT ROOM, QUIET RESIDENCE PERFECTLOCATION</td>\n",
       "      <td>Must See! SPECTACULAR ONE FAMILY DUPLEX Home! ...</td>\n",
       "      <td>NaN</td>\n",
       "      <td>100146245</td>\n",
       "      <td>Serin</td>\n",
       "      <td>2016-10-18</td>\n",
       "      <td>US</td>\n",
       "      <td>NaN</td>\n",
       "      <td>...</td>\n",
       "      <td>0</td>\n",
       "      <td>0</td>\n",
       "      <td>0</td>\n",
       "      <td>0</td>\n",
       "      <td>0</td>\n",
       "      <td>0</td>\n",
       "      <td>0</td>\n",
       "      <td>1</td>\n",
       "      <td>0</td>\n",
       "      <td>0</td>\n",
       "    </tr>\n",
       "    <tr>\n",
       "      <th>38274</th>\n",
       "      <td>53662772</td>\n",
       "      <td>20211204143024</td>\n",
       "      <td>King Room - Midtown Manhattan</td>\n",
       "      <td>You can pack a lot into a minute in this centr...</td>\n",
       "      <td>NaN</td>\n",
       "      <td>337879004</td>\n",
       "      <td>Sinem</td>\n",
       "      <td>2020-02-21</td>\n",
       "      <td>New York, New York, United States</td>\n",
       "      <td>NaN</td>\n",
       "      <td>...</td>\n",
       "      <td>0</td>\n",
       "      <td>0</td>\n",
       "      <td>0</td>\n",
       "      <td>0</td>\n",
       "      <td>1</td>\n",
       "      <td>0</td>\n",
       "      <td>0</td>\n",
       "      <td>0</td>\n",
       "      <td>0</td>\n",
       "      <td>0</td>\n",
       "    </tr>\n",
       "    <tr>\n",
       "      <th>38275</th>\n",
       "      <td>53663081</td>\n",
       "      <td>20211204143024</td>\n",
       "      <td>King Room - Bryant Park.</td>\n",
       "      <td>NaN</td>\n",
       "      <td>NaN</td>\n",
       "      <td>337879004</td>\n",
       "      <td>Sinem</td>\n",
       "      <td>2020-02-21</td>\n",
       "      <td>New York, New York, United States</td>\n",
       "      <td>NaN</td>\n",
       "      <td>...</td>\n",
       "      <td>0</td>\n",
       "      <td>0</td>\n",
       "      <td>0</td>\n",
       "      <td>0</td>\n",
       "      <td>1</td>\n",
       "      <td>0</td>\n",
       "      <td>0</td>\n",
       "      <td>0</td>\n",
       "      <td>0</td>\n",
       "      <td>0</td>\n",
       "    </tr>\n",
       "    <tr>\n",
       "      <th>38276</th>\n",
       "      <td>53665099</td>\n",
       "      <td>20211204143024</td>\n",
       "      <td>★Luxury in the ❤of Bklyn | Fast Wi-Fi | Sleeps...</td>\n",
       "      <td>Stunning newly remodeled apartment in Bushwick...</td>\n",
       "      <td>Bushwick!&lt;br /&gt;&lt;br /&gt;This neighborhood is loca...</td>\n",
       "      <td>60105727</td>\n",
       "      <td>Lee</td>\n",
       "      <td>2016-02-23</td>\n",
       "      <td>Washington, District of Columbia, United States</td>\n",
       "      <td>Y|S- We provide travelers with an awesome expe...</td>\n",
       "      <td>...</td>\n",
       "      <td>0</td>\n",
       "      <td>0</td>\n",
       "      <td>0</td>\n",
       "      <td>0</td>\n",
       "      <td>0</td>\n",
       "      <td>0</td>\n",
       "      <td>0</td>\n",
       "      <td>0</td>\n",
       "      <td>0</td>\n",
       "      <td>0</td>\n",
       "    </tr>\n",
       "  </tbody>\n",
       "</table>\n",
       "<p>5 rows × 180 columns</p>\n",
       "</div>"
      ],
      "text/plain": [
       "             id       scrape_id  \\\n",
       "38272  53662330  20211204143024   \n",
       "38273  53662542  20211204143024   \n",
       "38274  53662772  20211204143024   \n",
       "38275  53663081  20211204143024   \n",
       "38276  53665099  20211204143024   \n",
       "\n",
       "                                                    name  \\\n",
       "38272                HUGE PRIVATE ROOM, AWESOME LOCATION   \n",
       "38273   LARGE PRVT ROOM, QUIET RESIDENCE PERFECTLOCATION   \n",
       "38274                      King Room - Midtown Manhattan   \n",
       "38275                           King Room - Bryant Park.   \n",
       "38276  ★Luxury in the ❤of Bklyn | Fast Wi-Fi | Sleeps...   \n",
       "\n",
       "                                             description  \\\n",
       "38272  Must See! SPECTACULAR ONE FAMILY DUPLEX Home! ...   \n",
       "38273  Must See! SPECTACULAR ONE FAMILY DUPLEX Home! ...   \n",
       "38274  You can pack a lot into a minute in this centr...   \n",
       "38275                                                NaN   \n",
       "38276  Stunning newly remodeled apartment in Bushwick...   \n",
       "\n",
       "                                   neighborhood_overview    host_id host_name  \\\n",
       "38272                                                NaN  100146245     Serin   \n",
       "38273                                                NaN  100146245     Serin   \n",
       "38274                                                NaN  337879004     Sinem   \n",
       "38275                                                NaN  337879004     Sinem   \n",
       "38276  Bushwick!<br /><br />This neighborhood is loca...   60105727       Lee   \n",
       "\n",
       "       host_since                                    host_location  \\\n",
       "38272  2016-10-18                                               US   \n",
       "38273  2016-10-18                                               US   \n",
       "38274  2020-02-21                New York, New York, United States   \n",
       "38275  2020-02-21                New York, New York, United States   \n",
       "38276  2016-02-23  Washington, District of Columbia, United States   \n",
       "\n",
       "                                              host_about  ...  \\\n",
       "38272                                                NaN  ...   \n",
       "38273                                                NaN  ...   \n",
       "38274                                                NaN  ...   \n",
       "38275                                                NaN  ...   \n",
       "38276  Y|S- We provide travelers with an awesome expe...  ...   \n",
       "\n",
       "      host_response_rate_90% host_response_rate_91%  host_response_rate_92%  \\\n",
       "38272                      0                      0                       0   \n",
       "38273                      0                      0                       0   \n",
       "38274                      0                      0                       0   \n",
       "38275                      0                      0                       0   \n",
       "38276                      0                      0                       0   \n",
       "\n",
       "       host_response_rate_93% host_response_rate_94% host_response_rate_95%  \\\n",
       "38272                       0                      0                      0   \n",
       "38273                       0                      0                      0   \n",
       "38274                       0                      1                      0   \n",
       "38275                       0                      1                      0   \n",
       "38276                       0                      0                      0   \n",
       "\n",
       "      host_response_rate_96%  host_response_rate_97%  host_response_rate_98%  \\\n",
       "38272                      0                       1                       0   \n",
       "38273                      0                       1                       0   \n",
       "38274                      0                       0                       0   \n",
       "38275                      0                       0                       0   \n",
       "38276                      0                       0                       0   \n",
       "\n",
       "      host_response_rate_99%  \n",
       "38272                      0  \n",
       "38273                      0  \n",
       "38274                      0  \n",
       "38275                      0  \n",
       "38276                      0  \n",
       "\n",
       "[5 rows x 180 columns]"
      ]
     },
     "execution_count": 38,
     "metadata": {},
     "output_type": "execute_result"
    }
   ],
   "source": [
    "df_host_response_rate = pd.get_dummies(df['host_response_rate'], prefix='host_response_rate')\n",
    "\n",
    "df = pd.concat([df, df_host_response_rate], axis=1)\n",
    "\n",
    "df.drop(columns=['host_response_rate'], inplace=True)\n",
    "\n",
    "df.tail()"
   ]
  },
  {
   "cell_type": "markdown",
   "metadata": {},
   "source": [
    "## Part 4. Explore Your Data"
   ]
  },
  {
   "cell_type": "markdown",
   "metadata": {},
   "source": [
    "You will now perform exploratory data analysis in preparation for selecting your features as part of feature engineering. \n",
    "\n",
    "#### Identify Correlations\n",
    "\n",
    "We will focus on identifying which features in the data have the highest correlation with the label."
   ]
  },
  {
   "cell_type": "markdown",
   "metadata": {},
   "source": [
    "Let's first run the `corr()` method on DataFrame `df` and save the result to the variable `corr_matrix`. Let's round the resulting correlations to five decimal places:"
   ]
  },
  {
   "cell_type": "code",
   "execution_count": 39,
   "metadata": {},
   "outputs": [
    {
     "data": {
      "text/html": [
       "<div>\n",
       "<style scoped>\n",
       "    .dataframe tbody tr th:only-of-type {\n",
       "        vertical-align: middle;\n",
       "    }\n",
       "\n",
       "    .dataframe tbody tr th {\n",
       "        vertical-align: top;\n",
       "    }\n",
       "\n",
       "    .dataframe thead th {\n",
       "        text-align: right;\n",
       "    }\n",
       "</style>\n",
       "<table border=\"1\" class=\"dataframe\">\n",
       "  <thead>\n",
       "    <tr style=\"text-align: right;\">\n",
       "      <th></th>\n",
       "      <th>id</th>\n",
       "      <th>scrape_id</th>\n",
       "      <th>host_id</th>\n",
       "      <th>host_listings_count</th>\n",
       "      <th>host_total_listings_count</th>\n",
       "      <th>latitude</th>\n",
       "      <th>longitude</th>\n",
       "      <th>accommodates</th>\n",
       "      <th>bathrooms</th>\n",
       "      <th>bedrooms</th>\n",
       "      <th>...</th>\n",
       "      <th>host_response_rate_90%</th>\n",
       "      <th>host_response_rate_91%</th>\n",
       "      <th>host_response_rate_92%</th>\n",
       "      <th>host_response_rate_93%</th>\n",
       "      <th>host_response_rate_94%</th>\n",
       "      <th>host_response_rate_95%</th>\n",
       "      <th>host_response_rate_96%</th>\n",
       "      <th>host_response_rate_97%</th>\n",
       "      <th>host_response_rate_98%</th>\n",
       "      <th>host_response_rate_99%</th>\n",
       "    </tr>\n",
       "  </thead>\n",
       "  <tbody>\n",
       "    <tr>\n",
       "      <th>id</th>\n",
       "      <td>1.00000</td>\n",
       "      <td>-0.0</td>\n",
       "      <td>0.58617</td>\n",
       "      <td>0.12986</td>\n",
       "      <td>0.12986</td>\n",
       "      <td>0.01000</td>\n",
       "      <td>0.08708</td>\n",
       "      <td>0.03540</td>\n",
       "      <td>NaN</td>\n",
       "      <td>0.04503</td>\n",
       "      <td>...</td>\n",
       "      <td>0.01846</td>\n",
       "      <td>0.02138</td>\n",
       "      <td>0.03024</td>\n",
       "      <td>0.00073</td>\n",
       "      <td>0.06330</td>\n",
       "      <td>0.05708</td>\n",
       "      <td>0.07547</td>\n",
       "      <td>0.03613</td>\n",
       "      <td>0.04378</td>\n",
       "      <td>0.14248</td>\n",
       "    </tr>\n",
       "    <tr>\n",
       "      <th>scrape_id</th>\n",
       "      <td>-0.00000</td>\n",
       "      <td>1.0</td>\n",
       "      <td>0.00000</td>\n",
       "      <td>-0.00000</td>\n",
       "      <td>-0.00000</td>\n",
       "      <td>0.00000</td>\n",
       "      <td>-0.00000</td>\n",
       "      <td>0.00000</td>\n",
       "      <td>NaN</td>\n",
       "      <td>0.00000</td>\n",
       "      <td>...</td>\n",
       "      <td>0.00000</td>\n",
       "      <td>-0.00000</td>\n",
       "      <td>0.00000</td>\n",
       "      <td>-0.00000</td>\n",
       "      <td>0.00000</td>\n",
       "      <td>-0.00000</td>\n",
       "      <td>-0.00000</td>\n",
       "      <td>0.00000</td>\n",
       "      <td>-0.00000</td>\n",
       "      <td>0.00000</td>\n",
       "    </tr>\n",
       "    <tr>\n",
       "      <th>host_id</th>\n",
       "      <td>0.58617</td>\n",
       "      <td>0.0</td>\n",
       "      <td>1.00000</td>\n",
       "      <td>0.03189</td>\n",
       "      <td>0.03189</td>\n",
       "      <td>0.04148</td>\n",
       "      <td>0.11620</td>\n",
       "      <td>0.02723</td>\n",
       "      <td>NaN</td>\n",
       "      <td>0.02202</td>\n",
       "      <td>...</td>\n",
       "      <td>0.00737</td>\n",
       "      <td>0.03457</td>\n",
       "      <td>0.04697</td>\n",
       "      <td>0.01815</td>\n",
       "      <td>0.08272</td>\n",
       "      <td>0.04025</td>\n",
       "      <td>0.03571</td>\n",
       "      <td>0.02257</td>\n",
       "      <td>-0.02746</td>\n",
       "      <td>0.07906</td>\n",
       "    </tr>\n",
       "    <tr>\n",
       "      <th>host_listings_count</th>\n",
       "      <td>0.12986</td>\n",
       "      <td>-0.0</td>\n",
       "      <td>0.03189</td>\n",
       "      <td>1.00000</td>\n",
       "      <td>1.00000</td>\n",
       "      <td>0.03475</td>\n",
       "      <td>-0.08843</td>\n",
       "      <td>-0.02621</td>\n",
       "      <td>NaN</td>\n",
       "      <td>-0.01710</td>\n",
       "      <td>...</td>\n",
       "      <td>-0.01920</td>\n",
       "      <td>-0.00772</td>\n",
       "      <td>-0.00984</td>\n",
       "      <td>-0.00669</td>\n",
       "      <td>-0.01019</td>\n",
       "      <td>-0.00822</td>\n",
       "      <td>0.00513</td>\n",
       "      <td>-0.01039</td>\n",
       "      <td>0.00845</td>\n",
       "      <td>0.01420</td>\n",
       "    </tr>\n",
       "    <tr>\n",
       "      <th>host_total_listings_count</th>\n",
       "      <td>0.12986</td>\n",
       "      <td>-0.0</td>\n",
       "      <td>0.03189</td>\n",
       "      <td>1.00000</td>\n",
       "      <td>1.00000</td>\n",
       "      <td>0.03475</td>\n",
       "      <td>-0.08843</td>\n",
       "      <td>-0.02621</td>\n",
       "      <td>NaN</td>\n",
       "      <td>-0.01710</td>\n",
       "      <td>...</td>\n",
       "      <td>-0.01920</td>\n",
       "      <td>-0.00772</td>\n",
       "      <td>-0.00984</td>\n",
       "      <td>-0.00669</td>\n",
       "      <td>-0.01019</td>\n",
       "      <td>-0.00822</td>\n",
       "      <td>0.00513</td>\n",
       "      <td>-0.01039</td>\n",
       "      <td>0.00845</td>\n",
       "      <td>0.01420</td>\n",
       "    </tr>\n",
       "    <tr>\n",
       "      <th>...</th>\n",
       "      <td>...</td>\n",
       "      <td>...</td>\n",
       "      <td>...</td>\n",
       "      <td>...</td>\n",
       "      <td>...</td>\n",
       "      <td>...</td>\n",
       "      <td>...</td>\n",
       "      <td>...</td>\n",
       "      <td>...</td>\n",
       "      <td>...</td>\n",
       "      <td>...</td>\n",
       "      <td>...</td>\n",
       "      <td>...</td>\n",
       "      <td>...</td>\n",
       "      <td>...</td>\n",
       "      <td>...</td>\n",
       "      <td>...</td>\n",
       "      <td>...</td>\n",
       "      <td>...</td>\n",
       "      <td>...</td>\n",
       "      <td>...</td>\n",
       "    </tr>\n",
       "    <tr>\n",
       "      <th>host_response_rate_95%</th>\n",
       "      <td>0.05708</td>\n",
       "      <td>-0.0</td>\n",
       "      <td>0.04025</td>\n",
       "      <td>-0.00822</td>\n",
       "      <td>-0.00822</td>\n",
       "      <td>0.01686</td>\n",
       "      <td>0.00494</td>\n",
       "      <td>0.01682</td>\n",
       "      <td>NaN</td>\n",
       "      <td>0.00697</td>\n",
       "      <td>...</td>\n",
       "      <td>-0.01181</td>\n",
       "      <td>-0.00521</td>\n",
       "      <td>-0.00580</td>\n",
       "      <td>-0.00549</td>\n",
       "      <td>-0.00689</td>\n",
       "      <td>1.00000</td>\n",
       "      <td>-0.00807</td>\n",
       "      <td>-0.00637</td>\n",
       "      <td>-0.00959</td>\n",
       "      <td>-0.01142</td>\n",
       "    </tr>\n",
       "    <tr>\n",
       "      <th>host_response_rate_96%</th>\n",
       "      <td>0.07547</td>\n",
       "      <td>-0.0</td>\n",
       "      <td>0.03571</td>\n",
       "      <td>0.00513</td>\n",
       "      <td>0.00513</td>\n",
       "      <td>0.01472</td>\n",
       "      <td>-0.02847</td>\n",
       "      <td>0.03761</td>\n",
       "      <td>NaN</td>\n",
       "      <td>0.00779</td>\n",
       "      <td>...</td>\n",
       "      <td>-0.01444</td>\n",
       "      <td>-0.00637</td>\n",
       "      <td>-0.00709</td>\n",
       "      <td>-0.00671</td>\n",
       "      <td>-0.00842</td>\n",
       "      <td>-0.00807</td>\n",
       "      <td>1.00000</td>\n",
       "      <td>-0.00779</td>\n",
       "      <td>-0.01173</td>\n",
       "      <td>-0.01397</td>\n",
       "    </tr>\n",
       "    <tr>\n",
       "      <th>host_response_rate_97%</th>\n",
       "      <td>0.03613</td>\n",
       "      <td>0.0</td>\n",
       "      <td>0.02257</td>\n",
       "      <td>-0.01039</td>\n",
       "      <td>-0.01039</td>\n",
       "      <td>0.01009</td>\n",
       "      <td>0.01095</td>\n",
       "      <td>0.01768</td>\n",
       "      <td>NaN</td>\n",
       "      <td>-0.00665</td>\n",
       "      <td>...</td>\n",
       "      <td>-0.01140</td>\n",
       "      <td>-0.00503</td>\n",
       "      <td>-0.00560</td>\n",
       "      <td>-0.00530</td>\n",
       "      <td>-0.00665</td>\n",
       "      <td>-0.00637</td>\n",
       "      <td>-0.00779</td>\n",
       "      <td>1.00000</td>\n",
       "      <td>-0.00926</td>\n",
       "      <td>-0.01103</td>\n",
       "    </tr>\n",
       "    <tr>\n",
       "      <th>host_response_rate_98%</th>\n",
       "      <td>0.04378</td>\n",
       "      <td>-0.0</td>\n",
       "      <td>-0.02746</td>\n",
       "      <td>0.00845</td>\n",
       "      <td>0.00845</td>\n",
       "      <td>0.03121</td>\n",
       "      <td>-0.01037</td>\n",
       "      <td>-0.01064</td>\n",
       "      <td>NaN</td>\n",
       "      <td>-0.01410</td>\n",
       "      <td>...</td>\n",
       "      <td>-0.01716</td>\n",
       "      <td>-0.00758</td>\n",
       "      <td>-0.00842</td>\n",
       "      <td>-0.00798</td>\n",
       "      <td>-0.01000</td>\n",
       "      <td>-0.00959</td>\n",
       "      <td>-0.01173</td>\n",
       "      <td>-0.00926</td>\n",
       "      <td>1.00000</td>\n",
       "      <td>-0.01660</td>\n",
       "    </tr>\n",
       "    <tr>\n",
       "      <th>host_response_rate_99%</th>\n",
       "      <td>0.14248</td>\n",
       "      <td>0.0</td>\n",
       "      <td>0.07906</td>\n",
       "      <td>0.01420</td>\n",
       "      <td>0.01420</td>\n",
       "      <td>-0.01624</td>\n",
       "      <td>-0.04652</td>\n",
       "      <td>-0.03180</td>\n",
       "      <td>NaN</td>\n",
       "      <td>-0.02951</td>\n",
       "      <td>...</td>\n",
       "      <td>-0.02044</td>\n",
       "      <td>-0.00902</td>\n",
       "      <td>-0.01004</td>\n",
       "      <td>-0.00950</td>\n",
       "      <td>-0.01192</td>\n",
       "      <td>-0.01142</td>\n",
       "      <td>-0.01397</td>\n",
       "      <td>-0.01103</td>\n",
       "      <td>-0.01660</td>\n",
       "      <td>1.00000</td>\n",
       "    </tr>\n",
       "  </tbody>\n",
       "</table>\n",
       "<p>163 rows × 163 columns</p>\n",
       "</div>"
      ],
      "text/plain": [
       "                                id  scrape_id  host_id  host_listings_count  \\\n",
       "id                         1.00000       -0.0  0.58617              0.12986   \n",
       "scrape_id                 -0.00000        1.0  0.00000             -0.00000   \n",
       "host_id                    0.58617        0.0  1.00000              0.03189   \n",
       "host_listings_count        0.12986       -0.0  0.03189              1.00000   \n",
       "host_total_listings_count  0.12986       -0.0  0.03189              1.00000   \n",
       "...                            ...        ...      ...                  ...   \n",
       "host_response_rate_95%     0.05708       -0.0  0.04025             -0.00822   \n",
       "host_response_rate_96%     0.07547       -0.0  0.03571              0.00513   \n",
       "host_response_rate_97%     0.03613        0.0  0.02257             -0.01039   \n",
       "host_response_rate_98%     0.04378       -0.0 -0.02746              0.00845   \n",
       "host_response_rate_99%     0.14248        0.0  0.07906              0.01420   \n",
       "\n",
       "                           host_total_listings_count  latitude  longitude  \\\n",
       "id                                           0.12986   0.01000    0.08708   \n",
       "scrape_id                                   -0.00000   0.00000   -0.00000   \n",
       "host_id                                      0.03189   0.04148    0.11620   \n",
       "host_listings_count                          1.00000   0.03475   -0.08843   \n",
       "host_total_listings_count                    1.00000   0.03475   -0.08843   \n",
       "...                                              ...       ...        ...   \n",
       "host_response_rate_95%                      -0.00822   0.01686    0.00494   \n",
       "host_response_rate_96%                       0.00513   0.01472   -0.02847   \n",
       "host_response_rate_97%                      -0.01039   0.01009    0.01095   \n",
       "host_response_rate_98%                       0.00845   0.03121   -0.01037   \n",
       "host_response_rate_99%                       0.01420  -0.01624   -0.04652   \n",
       "\n",
       "                           accommodates  bathrooms  bedrooms  ...  \\\n",
       "id                              0.03540        NaN   0.04503  ...   \n",
       "scrape_id                       0.00000        NaN   0.00000  ...   \n",
       "host_id                         0.02723        NaN   0.02202  ...   \n",
       "host_listings_count            -0.02621        NaN  -0.01710  ...   \n",
       "host_total_listings_count      -0.02621        NaN  -0.01710  ...   \n",
       "...                                 ...        ...       ...  ...   \n",
       "host_response_rate_95%          0.01682        NaN   0.00697  ...   \n",
       "host_response_rate_96%          0.03761        NaN   0.00779  ...   \n",
       "host_response_rate_97%          0.01768        NaN  -0.00665  ...   \n",
       "host_response_rate_98%         -0.01064        NaN  -0.01410  ...   \n",
       "host_response_rate_99%         -0.03180        NaN  -0.02951  ...   \n",
       "\n",
       "                           host_response_rate_90%  host_response_rate_91%  \\\n",
       "id                                        0.01846                 0.02138   \n",
       "scrape_id                                 0.00000                -0.00000   \n",
       "host_id                                   0.00737                 0.03457   \n",
       "host_listings_count                      -0.01920                -0.00772   \n",
       "host_total_listings_count                -0.01920                -0.00772   \n",
       "...                                           ...                     ...   \n",
       "host_response_rate_95%                   -0.01181                -0.00521   \n",
       "host_response_rate_96%                   -0.01444                -0.00637   \n",
       "host_response_rate_97%                   -0.01140                -0.00503   \n",
       "host_response_rate_98%                   -0.01716                -0.00758   \n",
       "host_response_rate_99%                   -0.02044                -0.00902   \n",
       "\n",
       "                           host_response_rate_92%  host_response_rate_93%  \\\n",
       "id                                        0.03024                 0.00073   \n",
       "scrape_id                                 0.00000                -0.00000   \n",
       "host_id                                   0.04697                 0.01815   \n",
       "host_listings_count                      -0.00984                -0.00669   \n",
       "host_total_listings_count                -0.00984                -0.00669   \n",
       "...                                           ...                     ...   \n",
       "host_response_rate_95%                   -0.00580                -0.00549   \n",
       "host_response_rate_96%                   -0.00709                -0.00671   \n",
       "host_response_rate_97%                   -0.00560                -0.00530   \n",
       "host_response_rate_98%                   -0.00842                -0.00798   \n",
       "host_response_rate_99%                   -0.01004                -0.00950   \n",
       "\n",
       "                           host_response_rate_94%  host_response_rate_95%  \\\n",
       "id                                        0.06330                 0.05708   \n",
       "scrape_id                                 0.00000                -0.00000   \n",
       "host_id                                   0.08272                 0.04025   \n",
       "host_listings_count                      -0.01019                -0.00822   \n",
       "host_total_listings_count                -0.01019                -0.00822   \n",
       "...                                           ...                     ...   \n",
       "host_response_rate_95%                   -0.00689                 1.00000   \n",
       "host_response_rate_96%                   -0.00842                -0.00807   \n",
       "host_response_rate_97%                   -0.00665                -0.00637   \n",
       "host_response_rate_98%                   -0.01000                -0.00959   \n",
       "host_response_rate_99%                   -0.01192                -0.01142   \n",
       "\n",
       "                           host_response_rate_96%  host_response_rate_97%  \\\n",
       "id                                        0.07547                 0.03613   \n",
       "scrape_id                                -0.00000                 0.00000   \n",
       "host_id                                   0.03571                 0.02257   \n",
       "host_listings_count                       0.00513                -0.01039   \n",
       "host_total_listings_count                 0.00513                -0.01039   \n",
       "...                                           ...                     ...   \n",
       "host_response_rate_95%                   -0.00807                -0.00637   \n",
       "host_response_rate_96%                    1.00000                -0.00779   \n",
       "host_response_rate_97%                   -0.00779                 1.00000   \n",
       "host_response_rate_98%                   -0.01173                -0.00926   \n",
       "host_response_rate_99%                   -0.01397                -0.01103   \n",
       "\n",
       "                           host_response_rate_98%  host_response_rate_99%  \n",
       "id                                        0.04378                 0.14248  \n",
       "scrape_id                                -0.00000                 0.00000  \n",
       "host_id                                  -0.02746                 0.07906  \n",
       "host_listings_count                       0.00845                 0.01420  \n",
       "host_total_listings_count                 0.00845                 0.01420  \n",
       "...                                           ...                     ...  \n",
       "host_response_rate_95%                   -0.00959                -0.01142  \n",
       "host_response_rate_96%                   -0.01173                -0.01397  \n",
       "host_response_rate_97%                   -0.00926                -0.01103  \n",
       "host_response_rate_98%                    1.00000                -0.01660  \n",
       "host_response_rate_99%                   -0.01660                 1.00000  \n",
       "\n",
       "[163 rows x 163 columns]"
      ]
     },
     "execution_count": 39,
     "metadata": {},
     "output_type": "execute_result"
    }
   ],
   "source": [
    "corr_matrix = round(df.corr(),5)\n",
    "corr_matrix"
   ]
  },
  {
   "cell_type": "markdown",
   "metadata": {},
   "source": [
    "The result is a computed *correlation matrix*. The values on the diagonal are all equal to 1 because they represent the correlations between each column with itself. The matrix is symmetrical with respect to the diagonal.<br>\n",
    "\n",
    "We only need to observe correlations of all features with the column `label_price` (as opposed to every possible pairwise correlation). Se let's query the `label_price` column of this matrix:\n",
    "\n",
    "**Task**: Extract the `label_price` column of the correlation matrix and save the results to the variable `corrs`."
   ]
  },
  {
   "cell_type": "code",
   "execution_count": 40,
   "metadata": {},
   "outputs": [
    {
     "data": {
      "text/plain": [
       "id                           0.07907\n",
       "scrape_id                   -0.00000\n",
       "host_id                      0.04053\n",
       "host_listings_count          0.13104\n",
       "host_total_listings_count    0.13104\n",
       "                              ...   \n",
       "host_response_rate_95%      -0.00187\n",
       "host_response_rate_96%       0.03581\n",
       "host_response_rate_97%      -0.00097\n",
       "host_response_rate_98%       0.00433\n",
       "host_response_rate_99%       0.02825\n",
       "Name: label_price, Length: 163, dtype: float64"
      ]
     },
     "execution_count": 40,
     "metadata": {},
     "output_type": "execute_result"
    }
   ],
   "source": [
    "corrs = corr_matrix['label_price']\n",
    "corrs"
   ]
  },
  {
   "cell_type": "markdown",
   "metadata": {},
   "source": [
    "**Task**: Sort the values of the series we just obtained in the descending order and save the results to the variable `corrs_sorted`."
   ]
  },
  {
   "cell_type": "code",
   "execution_count": 41,
   "metadata": {},
   "outputs": [
    {
     "data": {
      "text/plain": [
       "label_price               1.00000\n",
       "price                     0.71112\n",
       "accommodates              0.50062\n",
       "bedrooms                  0.41996\n",
       "beds                      0.37370\n",
       "                           ...   \n",
       "longitude                -0.20695\n",
       "room_type_Private room   -0.34108\n",
       "bathrooms                     NaN\n",
       "calendar_updated              NaN\n",
       "bathrooms_na                  NaN\n",
       "Name: label_price, Length: 163, dtype: float64"
      ]
     },
     "execution_count": 41,
     "metadata": {},
     "output_type": "execute_result"
    }
   ],
   "source": [
    "corrs_sorted = corrs.sort_values(ascending=False)\n",
    "corrs_sorted"
   ]
  },
  {
   "cell_type": "markdown",
   "metadata": {},
   "source": [
    "**Task**: Use Pandas indexing to extract the column names for the top two correlation values and save the results to the Python list `top_two_corr`. Add the feature names to the list in the order in which they appear in the output above. <br> \n",
    "\n",
    "<b>Note</b>: Do not count the correlation of `label` column with itself, nor the `price` column -- which is the `label` column prior to outlier removal."
   ]
  },
  {
   "cell_type": "code",
   "execution_count": 42,
   "metadata": {},
   "outputs": [
    {
     "data": {
      "text/plain": [
       "['accommodates', 'bedrooms']"
      ]
     },
     "execution_count": 42,
     "metadata": {},
     "output_type": "execute_result"
    }
   ],
   "source": [
    "top_two_corr = corrs_sorted.index[2:4].tolist()\n",
    "top_two_corr"
   ]
  },
  {
   "cell_type": "markdown",
   "metadata": {},
   "source": [
    "#### Bivariate Plotting: Produce Plots for the Label and Its Top Correlates\n",
    "\n",
    "Let us visualize our data."
   ]
  },
  {
   "cell_type": "markdown",
   "metadata": {},
   "source": [
    "We will use the `pairplot()` function in `seaborn` to plot the relationships between the two features and the label."
   ]
  },
  {
   "cell_type": "markdown",
   "metadata": {},
   "source": [
    "**Task**: Create a DataFrame `df_corrs` that contains only three columns from DataFrame `df`: the label, and the two columns which correlate with it the most."
   ]
  },
  {
   "cell_type": "code",
   "execution_count": 43,
   "metadata": {
    "scrolled": true
   },
   "outputs": [
    {
     "data": {
      "text/html": [
       "<div>\n",
       "<style scoped>\n",
       "    .dataframe tbody tr th:only-of-type {\n",
       "        vertical-align: middle;\n",
       "    }\n",
       "\n",
       "    .dataframe tbody tr th {\n",
       "        vertical-align: top;\n",
       "    }\n",
       "\n",
       "    .dataframe thead th {\n",
       "        text-align: right;\n",
       "    }\n",
       "</style>\n",
       "<table border=\"1\" class=\"dataframe\">\n",
       "  <thead>\n",
       "    <tr style=\"text-align: right;\">\n",
       "      <th></th>\n",
       "      <th>label_price</th>\n",
       "      <th>accommodates</th>\n",
       "      <th>bedrooms</th>\n",
       "    </tr>\n",
       "  </thead>\n",
       "  <tbody>\n",
       "    <tr>\n",
       "      <th>0</th>\n",
       "      <td>150.0</td>\n",
       "      <td>1</td>\n",
       "      <td>1.323567</td>\n",
       "    </tr>\n",
       "    <tr>\n",
       "      <th>1</th>\n",
       "      <td>75.0</td>\n",
       "      <td>3</td>\n",
       "      <td>1.000000</td>\n",
       "    </tr>\n",
       "    <tr>\n",
       "      <th>2</th>\n",
       "      <td>60.0</td>\n",
       "      <td>2</td>\n",
       "      <td>1.000000</td>\n",
       "    </tr>\n",
       "    <tr>\n",
       "      <th>3</th>\n",
       "      <td>275.0</td>\n",
       "      <td>4</td>\n",
       "      <td>2.000000</td>\n",
       "    </tr>\n",
       "    <tr>\n",
       "      <th>4</th>\n",
       "      <td>68.0</td>\n",
       "      <td>2</td>\n",
       "      <td>1.000000</td>\n",
       "    </tr>\n",
       "    <tr>\n",
       "      <th>...</th>\n",
       "      <td>...</td>\n",
       "      <td>...</td>\n",
       "      <td>...</td>\n",
       "    </tr>\n",
       "    <tr>\n",
       "      <th>38272</th>\n",
       "      <td>79.0</td>\n",
       "      <td>2</td>\n",
       "      <td>1.000000</td>\n",
       "    </tr>\n",
       "    <tr>\n",
       "      <th>38273</th>\n",
       "      <td>76.0</td>\n",
       "      <td>2</td>\n",
       "      <td>1.000000</td>\n",
       "    </tr>\n",
       "    <tr>\n",
       "      <th>38274</th>\n",
       "      <td>116.0</td>\n",
       "      <td>2</td>\n",
       "      <td>1.000000</td>\n",
       "    </tr>\n",
       "    <tr>\n",
       "      <th>38275</th>\n",
       "      <td>106.0</td>\n",
       "      <td>2</td>\n",
       "      <td>1.000000</td>\n",
       "    </tr>\n",
       "    <tr>\n",
       "      <th>38276</th>\n",
       "      <td>689.0</td>\n",
       "      <td>14</td>\n",
       "      <td>6.000000</td>\n",
       "    </tr>\n",
       "  </tbody>\n",
       "</table>\n",
       "<p>38277 rows × 3 columns</p>\n",
       "</div>"
      ],
      "text/plain": [
       "       label_price  accommodates  bedrooms\n",
       "0            150.0             1  1.323567\n",
       "1             75.0             3  1.000000\n",
       "2             60.0             2  1.000000\n",
       "3            275.0             4  2.000000\n",
       "4             68.0             2  1.000000\n",
       "...            ...           ...       ...\n",
       "38272         79.0             2  1.000000\n",
       "38273         76.0             2  1.000000\n",
       "38274        116.0             2  1.000000\n",
       "38275        106.0             2  1.000000\n",
       "38276        689.0            14  6.000000\n",
       "\n",
       "[38277 rows x 3 columns]"
      ]
     },
     "execution_count": 43,
     "metadata": {},
     "output_type": "execute_result"
    }
   ],
   "source": [
    "df_corrs = df[['label_price', 'accommodates', 'bedrooms']]\n",
    "df_corrs"
   ]
  },
  {
   "cell_type": "markdown",
   "metadata": {},
   "source": [
    "**Task**: Create a `seaborn` pairplot of the data subset you just created. Specify the *kernel density estimator* as the kind of the plot, and make sure that you don't plot redundant plots.\n",
    "\n",
    "<i>Note</i>: It will take a few minutes to run and produce a plot."
   ]
  },
  {
   "cell_type": "code",
   "execution_count": 48,
   "metadata": {},
   "outputs": [
    {
     "data": {
      "image/png": "[encoded data removed]",
      "text/plain": [
       "<Figure size 540x540 with 12 Axes>"
      ]
     },
     "metadata": {
      "needs_background": "light"
     },
     "output_type": "display_data"
    }
   ],
   "source": [
    "df_corrs_sampled = df_corrs.sample(n=1000, random_state=42) # it took too long \n",
    "\n",
    "sns.pairplot(df_corrs_sampled, kind='kde', diag_kind='kde') \n",
    "plt.show()"
   ]
  },
  {
   "cell_type": "markdown",
   "metadata": {},
   "source": [
    "## Part 5: Analysis\n",
    "\n",
    "1. Think about the possible interpretation of the plot. Recall that the label is the listing price. <br> How would you explain the relationship between the label and the two features? Is there a slight tilt to the points cluster, as the price goes up?<br>\n",
    "2. Are the top two correlated features strongly or weakly correlated with the label? Are they features that should be used for our predictive machine learning problem?\n",
    "3. Inspect your data matrix. It has a few features that contain unstructured text, meaning text data that is neither numerical nor categorical. List some features that contain unstructured text that you think are valuable for our predictive machine learning problem. Are there other remaining features that you think need to be prepared for the modeling phase? Do you have any suggestions on how to prepare these features?\n",
    "\n",
    "Record your findings in the cell below."
   ]
  },
  {
   "cell_type": "markdown",
   "metadata": {},
   "source": [
    "#### Relationship between the Label and the Two Features\n",
    "\n",
    "- **Accommodates**: There is a positive correlation between the number of people a listing can accommodate and its price. As the accommodation capacity increases, the price tends to rise. This is expected because larger properties that can host more guests generally command higher prices.\n",
    "\n",
    "- **Bedrooms**: Similarly, there is a positive correlation between the number of bedrooms and the listing price. Listings with more bedrooms tend to have higher prices, reflecting the additional space and amenities provided.\n",
    "\n",
    "\n",
    "#### Correlation Strength\n",
    "\n",
    "- The correlations between label_price and the top two features (accommodates and bedrooms) are moderately strong. This suggests that these features are useful for predicting the price and should be included in the predictive model.\n",
    "\n",
    "#### Unstructured Text Features\n",
    "\n",
    "- **Description**: This feature contains a detailed description of the listing. It can provide valuable information about the property’s amenities, location, and unique selling points.\n",
    "\n",
    "- **Neighborhood Overview**: This feature gives an overview of the neighborhood, which can influence the price based on the location's desirability.\n",
    "\n",
    "- **Host About**: Information about the host can impact guest perceptions and potentially influence pricing.\n",
    "\n",
    "- **Name**: While the name might not directly influence the price, it can contain keywords that attract more guests and indirectly affect pricing.\n",
    "\n",
    "#### Other Features to Prepare\n",
    "\n",
    "- **Amenities**: This feature contains a list of amenities provided. Converting this text into binary indicators (e.g., has_wifi, has_parking) can be valuable for the model.\n",
    "\n",
    "- **Location**: Latitude and longitude can be used to calculate proximity to key landmarks or city centers, which can influence pricing.\n",
    "\n",
    "- **Dates**: Features like host_since, first_review, and last_review can be converted to numerical representations of time (e.g., days since the host joined or days since the last review) to capture temporal trends.\n",
    "\n",
    "#### Suggestions for Preparing Features\n",
    "\n",
    "- **Text Vectorization**: Use techniques like TF-IDF or word embeddings to convert unstructured text features into numerical vectors.\n",
    "\n",
    "- **Binary Indicators**: For features like amenities, create binary columns indicating the presence or absence of key amenities.\n",
    "\n",
    "- **Location Encoding**: Use latitude and longitude to create features representing distance to city center or popular landmarks.\n",
    "\n",
    "- **Date Transformation**: Convert date features into numerical representations to capture temporal trends."
   ]
  },
  {
   "cell_type": "code",
   "execution_count": null,
   "metadata": {},
   "outputs": [],
   "source": []
  }
 ],
 "metadata": {
  "kernelspec": {
   "display_name": "Python 3",
   "language": "python",
   "name": "python3"
  },
  "language_info": {
   "codemirror_mode": {
    "name": "ipython",
    "version": 3
   },
   "file_extension": ".py",
   "mimetype": "text/x-python",
   "name": "python",
   "nbconvert_exporter": "python",
   "pygments_lexer": "ipython3",
   "version": "3.6.9"
  },
  "toc": {
   "base_numbering": 1,
   "nav_menu": {},
   "number_sections": false,
   "sideBar": true,
   "skip_h1_title": false,
   "title_cell": "Table of Contents",
   "title_sidebar": "Contents",
   "toc_cell": false,
   "toc_position": {},
   "toc_section_display": true,
   "toc_window_display": false
  },
  "varInspector": {
   "cols": {
    "lenName": 16,
    "lenType": 16,
    "lenVar": 40
   },
   "kernels_config": {
    "python": {
     "delete_cmd_postfix": "",
     "delete_cmd_prefix": "del ",
     "library": "var_list.py",
     "varRefreshCmd": "print(var_dic_list())"
    },
    "r": {
     "delete_cmd_postfix": ") ",
     "delete_cmd_prefix": "rm(",
     "library": "var_list.r",
     "varRefreshCmd": "cat(var_dic_list()) "
    }
   },
   "types_to_exclude": [
    "module",
    "function",
    "builtin_function_or_method",
    "instance",
    "_Feature"
   ],
   "window_display": false
  }
 },
 "nbformat": 4,
 "nbformat_minor": 2
}
